{
 "cells": [
  {
   "cell_type": "markdown",
   "id": "3bf2dcea-052a-4b15-9f58-3eca6d3b1273",
   "metadata": {
    "button": false,
    "new_sheet": false,
    "run_control": {
     "read_only": false
    }
   },
   "source": [
    "\n",
    "# K-Nearest Neighbors\n"
   ]
  },
  {
   "cell_type": "markdown",
   "id": "f23a0c7e-a9a8-4ca5-8ab7-a9c74efed0e2",
   "metadata": {
    "button": false,
    "new_sheet": false,
    "run_control": {
     "read_only": false
    }
   },
   "source": [
    "**K-Nearest Neighbors** is a supervised learning algorithm. Where the data is 'trained' with data points corresponding to their classification. To predict the class of a given data point, it takes into account the classes of the 'K' nearest data points and chooses the class in which the majority of the 'K' nearest data points belong to as the predicted class.\n"
   ]
  },
  {
   "cell_type": "markdown",
   "id": "7fc55ba6-caf7-4ed5-b4c2-cfbfb919b1e6",
   "metadata": {
    "button": false,
    "new_sheet": false,
    "run_control": {
     "read_only": false
    }
   },
   "source": [
    "### Here's an visualization of the K-Nearest Neighbors algorithm.\n",
    "\n",
    "<img src=\"https://cf-courses-data.s3.us.cloud-object-storage.appdomain.cloud/IBMDeveloperSkillsNetwork-ML0101EN-SkillsNetwork/labs/Module%203/images/KNN_Diagram.png\">\n"
   ]
  },
  {
   "cell_type": "markdown",
   "id": "7e745705-c5ee-4950-972c-6d7b7bc969ba",
   "metadata": {
    "button": false,
    "new_sheet": false,
    "run_control": {
     "read_only": false
    }
   },
   "source": [
    "In this case, we have data points of Class A and B. We want to predict what the star (test data point) is. If we consider a k value of 3 (3 nearest data points), we will obtain a prediction of Class B. Yet if we consider a k value of 6, we will obtain a prediction of Class A.\n"
   ]
  },
  {
   "cell_type": "markdown",
   "id": "95d3c014-267d-4e09-a0df-d9ee1c853e67",
   "metadata": {
    "button": false,
    "new_sheet": false,
    "run_control": {
     "read_only": false
    }
   },
   "source": [
    "In this sense, it is important to consider the value of k. Hopefully from this diagram, you should get a sense of what the K-Nearest Neighbors algorithm is. It considers the 'K' Nearest Neighbors (data points) when it predicts the classification of the test point.\n"
   ]
  },
  {
   "cell_type": "markdown",
   "id": "84fef220-abb9-494f-91dd-4c8a1beef7e7",
   "metadata": {
    "button": false,
    "new_sheet": false,
    "run_control": {
     "read_only": false
    }
   },
   "source": [
    "<div id=\"about_dataset\">\n",
    "    <h2>About the dataset</h2>\n",
    "</div>\n"
   ]
  },
  {
   "cell_type": "markdown",
   "id": "303727cd-4a6c-4e47-b851-f15eba46954f",
   "metadata": {
    "button": false,
    "new_sheet": false,
    "run_control": {
     "read_only": false
    }
   },
   "source": [
    "Imagine a telecommunications provider has segmented its customer base by service usage patterns, categorizing the customers into four groups. If demographic data can be used to predict group membership, the company can customize offers for individual prospective customers. It is a classification problem. That is, given the dataset,  with predefined labels, we need to build a model to be used to predict class of a new or unknown case.\n",
    "\n",
    "The example focuses on using demographic data, such as region, age, and marital, to predict usage patterns.\n",
    "\n",
    "The target field, called **custcat**, has four possible values that correspond to the four customer groups, as follows:\n",
    "1- Basic Service\n",
    "2- E-Service\n",
    "3- Plus Service\n",
    "4- Total Service\n",
    "\n",
    "Our objective is to build a classifier, to predict the class of unknown cases. We will use a specific type of classification called K nearest neighbour.\n"
   ]
  },
  {
   "cell_type": "code",
   "execution_count": 1,
   "id": "a4f9698b-4cf6-4be7-9879-6cdff0fed940",
   "metadata": {
    "tags": []
   },
   "outputs": [],
   "source": [
    "import numpy as np\n",
    "import matplotlib.pyplot as plt\n",
    "import pandas as pd\n",
    "import opendatasets as od\n",
    "from sklearn import preprocessing\n",
    "%matplotlib inline\n"
   ]
  },
  {
   "cell_type": "code",
   "execution_count": 2,
   "id": "3cb8bf46-21e7-42d6-9771-ee9459bda822",
   "metadata": {
    "tags": []
   },
   "outputs": [
    {
     "name": "stdout",
     "output_type": "stream",
     "text": [
      "Please provide your Kaggle credentials to download this dataset. Learn more: http://bit.ly/kaggle-creds\n",
      "Your Kaggle username:"
     ]
    },
    {
     "name": "stdin",
     "output_type": "stream",
     "text": [
      "  sumitk87549\n"
     ]
    },
    {
     "name": "stdout",
     "output_type": "stream",
     "text": [
      "Your Kaggle Key:"
     ]
    },
    {
     "name": "stdin",
     "output_type": "stream",
     "text": [
      "  ········\n"
     ]
    },
    {
     "name": "stdout",
     "output_type": "stream",
     "text": [
      "Downloading customersegmentation.zip to .\\customersegmentation\n"
     ]
    },
    {
     "name": "stderr",
     "output_type": "stream",
     "text": [
      "100%|██████████| 9.62k/9.62k [00:00<00:00, 419kB/s]"
     ]
    },
    {
     "name": "stdout",
     "output_type": "stream",
     "text": [
      "\n"
     ]
    },
    {
     "name": "stderr",
     "output_type": "stream",
     "text": [
      "\n"
     ]
    }
   ],
   "source": [
    "od.download(\"https://www.kaggle.com/datasets/prathamtripathi/customersegmentation\")"
   ]
  },
  {
   "cell_type": "code",
   "execution_count": 5,
   "id": "974ff030-939d-469c-8ead-d915caf4bfff",
   "metadata": {
    "tags": []
   },
   "outputs": [
    {
     "data": {
      "text/html": [
       "<div>\n",
       "<style scoped>\n",
       "    .dataframe tbody tr th:only-of-type {\n",
       "        vertical-align: middle;\n",
       "    }\n",
       "\n",
       "    .dataframe tbody tr th {\n",
       "        vertical-align: top;\n",
       "    }\n",
       "\n",
       "    .dataframe thead th {\n",
       "        text-align: right;\n",
       "    }\n",
       "</style>\n",
       "<table border=\"1\" class=\"dataframe\">\n",
       "  <thead>\n",
       "    <tr style=\"text-align: right;\">\n",
       "      <th></th>\n",
       "      <th>region</th>\n",
       "      <th>tenure</th>\n",
       "      <th>age</th>\n",
       "      <th>income</th>\n",
       "      <th>marital</th>\n",
       "      <th>address</th>\n",
       "      <th>ed</th>\n",
       "      <th>employ</th>\n",
       "      <th>retire</th>\n",
       "      <th>gender</th>\n",
       "      <th>reside</th>\n",
       "      <th>custcat</th>\n",
       "    </tr>\n",
       "  </thead>\n",
       "  <tbody>\n",
       "    <tr>\n",
       "      <th>0</th>\n",
       "      <td>2</td>\n",
       "      <td>13</td>\n",
       "      <td>44</td>\n",
       "      <td>64</td>\n",
       "      <td>1</td>\n",
       "      <td>9</td>\n",
       "      <td>4</td>\n",
       "      <td>5</td>\n",
       "      <td>0</td>\n",
       "      <td>0</td>\n",
       "      <td>2</td>\n",
       "      <td>A</td>\n",
       "    </tr>\n",
       "    <tr>\n",
       "      <th>1</th>\n",
       "      <td>3</td>\n",
       "      <td>11</td>\n",
       "      <td>33</td>\n",
       "      <td>136</td>\n",
       "      <td>1</td>\n",
       "      <td>7</td>\n",
       "      <td>5</td>\n",
       "      <td>5</td>\n",
       "      <td>0</td>\n",
       "      <td>0</td>\n",
       "      <td>6</td>\n",
       "      <td>D</td>\n",
       "    </tr>\n",
       "    <tr>\n",
       "      <th>2</th>\n",
       "      <td>3</td>\n",
       "      <td>68</td>\n",
       "      <td>52</td>\n",
       "      <td>116</td>\n",
       "      <td>1</td>\n",
       "      <td>24</td>\n",
       "      <td>1</td>\n",
       "      <td>29</td>\n",
       "      <td>0</td>\n",
       "      <td>1</td>\n",
       "      <td>2</td>\n",
       "      <td>C</td>\n",
       "    </tr>\n",
       "    <tr>\n",
       "      <th>3</th>\n",
       "      <td>2</td>\n",
       "      <td>33</td>\n",
       "      <td>33</td>\n",
       "      <td>33</td>\n",
       "      <td>0</td>\n",
       "      <td>12</td>\n",
       "      <td>2</td>\n",
       "      <td>0</td>\n",
       "      <td>0</td>\n",
       "      <td>1</td>\n",
       "      <td>1</td>\n",
       "      <td>A</td>\n",
       "    </tr>\n",
       "    <tr>\n",
       "      <th>4</th>\n",
       "      <td>2</td>\n",
       "      <td>23</td>\n",
       "      <td>30</td>\n",
       "      <td>30</td>\n",
       "      <td>1</td>\n",
       "      <td>9</td>\n",
       "      <td>1</td>\n",
       "      <td>2</td>\n",
       "      <td>0</td>\n",
       "      <td>0</td>\n",
       "      <td>4</td>\n",
       "      <td>C</td>\n",
       "    </tr>\n",
       "  </tbody>\n",
       "</table>\n",
       "</div>"
      ],
      "text/plain": [
       "   region  tenure  age  income  marital  address  ed  employ  retire  gender  \\\n",
       "0       2      13   44      64        1        9   4       5       0       0   \n",
       "1       3      11   33     136        1        7   5       5       0       0   \n",
       "2       3      68   52     116        1       24   1      29       0       1   \n",
       "3       2      33   33      33        0       12   2       0       0       1   \n",
       "4       2      23   30      30        1        9   1       2       0       0   \n",
       "\n",
       "   reside custcat  \n",
       "0       2       A  \n",
       "1       6       D  \n",
       "2       2       C  \n",
       "3       1       A  \n",
       "4       4       C  "
      ]
     },
     "execution_count": 5,
     "metadata": {},
     "output_type": "execute_result"
    }
   ],
   "source": [
    "df_raw = pd.read_csv(\"customersegmentation/Telecust1.csv\",encoding=\"ISO-8859-1\")\n",
    "df_raw.head()"
   ]
  },
  {
   "cell_type": "code",
   "execution_count": 6,
   "id": "46b32eb7-43af-4244-be76-16b04d0dbc9b",
   "metadata": {
    "tags": []
   },
   "outputs": [
    {
     "name": "stdout",
     "output_type": "stream",
     "text": [
      "<class 'pandas.core.frame.DataFrame'>\n",
      "RangeIndex: 1000 entries, 0 to 999\n",
      "Data columns (total 12 columns):\n",
      " #   Column   Non-Null Count  Dtype \n",
      "---  ------   --------------  ----- \n",
      " 0   region   1000 non-null   int64 \n",
      " 1   tenure   1000 non-null   int64 \n",
      " 2   age      1000 non-null   int64 \n",
      " 3   income   1000 non-null   int64 \n",
      " 4   marital  1000 non-null   int64 \n",
      " 5   address  1000 non-null   int64 \n",
      " 6   ed       1000 non-null   int64 \n",
      " 7   employ   1000 non-null   int64 \n",
      " 8   retire   1000 non-null   int64 \n",
      " 9   gender   1000 non-null   int64 \n",
      " 10  reside   1000 non-null   int64 \n",
      " 11  custcat  1000 non-null   object\n",
      "dtypes: int64(11), object(1)\n",
      "memory usage: 93.9+ KB\n"
     ]
    }
   ],
   "source": [
    "df_raw.info()"
   ]
  },
  {
   "cell_type": "code",
   "execution_count": 7,
   "id": "68c85d85-babb-4015-9d48-09ec852acaeb",
   "metadata": {
    "tags": []
   },
   "outputs": [
    {
     "data": {
      "text/plain": [
       "C    281\n",
       "A    266\n",
       "D    236\n",
       "B    217\n",
       "Name: custcat, dtype: int64"
      ]
     },
     "execution_count": 7,
     "metadata": {},
     "output_type": "execute_result"
    }
   ],
   "source": [
    "df_raw.custcat.value_counts()"
   ]
  },
  {
   "cell_type": "code",
   "execution_count": 9,
   "id": "0339a8bf-795c-489c-87f9-28eb5676b0eb",
   "metadata": {
    "tags": []
   },
   "outputs": [
    {
     "name": "stdout",
     "output_type": "stream",
     "text": [
      "<class 'pandas.core.frame.DataFrame'>\n",
      "RangeIndex: 1000 entries, 0 to 999\n",
      "Data columns (total 12 columns):\n",
      " #   Column   Non-Null Count  Dtype\n",
      "---  ------   --------------  -----\n",
      " 0   region   1000 non-null   int64\n",
      " 1   tenure   1000 non-null   int64\n",
      " 2   age      1000 non-null   int64\n",
      " 3   income   1000 non-null   int64\n",
      " 4   marital  1000 non-null   int64\n",
      " 5   address  1000 non-null   int64\n",
      " 6   ed       1000 non-null   int64\n",
      " 7   employ   1000 non-null   int64\n",
      " 8   retire   1000 non-null   int64\n",
      " 9   gender   1000 non-null   int64\n",
      " 10  reside   1000 non-null   int64\n",
      " 11  custcat  1000 non-null   int32\n",
      "dtypes: int32(1), int64(11)\n",
      "memory usage: 90.0 KB\n"
     ]
    }
   ],
   "source": [
    "encoder = preprocessing.LabelEncoder()\n",
    "df_raw.custcat = encoder.fit_transform(df_raw.custcat)\n",
    "df_raw.info()"
   ]
  },
  {
   "cell_type": "code",
   "execution_count": 10,
   "id": "76e573fa-49e1-478d-a3de-bf6aa0931af7",
   "metadata": {
    "tags": []
   },
   "outputs": [
    {
     "data": {
      "text/plain": [
       "2    281\n",
       "0    266\n",
       "3    236\n",
       "1    217\n",
       "Name: custcat, dtype: int64"
      ]
     },
     "execution_count": 10,
     "metadata": {},
     "output_type": "execute_result"
    }
   ],
   "source": [
    "df_raw.custcat.value_counts()"
   ]
  },
  {
   "cell_type": "code",
   "execution_count": 11,
   "id": "2378340c-7ad5-4405-b50f-84964c68befd",
   "metadata": {
    "tags": []
   },
   "outputs": [],
   "source": [
    "cust = df_raw"
   ]
  },
  {
   "cell_type": "code",
   "execution_count": 12,
   "id": "4bb4a85a-d081-47a8-a8af-ca68508e59a9",
   "metadata": {
    "tags": []
   },
   "outputs": [
    {
     "data": {
      "text/plain": [
       "array([[<Axes: title={'center': 'income'}>]], dtype=object)"
      ]
     },
     "execution_count": 12,
     "metadata": {},
     "output_type": "execute_result"
    },
    {
     "data": {
      "image/png": "[encoded data removed]",
      "text/plain": [
       "<Figure size 640x480 with 1 Axes>"
      ]
     },
     "metadata": {},
     "output_type": "display_data"
    }
   ],
   "source": [
    "cust.hist(column='income',bins=50)"
   ]
  },
  {
   "cell_type": "code",
   "execution_count": 13,
   "id": "733fc79e-fe3b-48c3-97ab-f950fa13d4cb",
   "metadata": {
    "tags": []
   },
   "outputs": [],
   "source": [
    "X = cust.values"
   ]
  },
  {
   "cell_type": "code",
   "execution_count": 14,
   "id": "3a6ba6ad-1f3b-47b8-b3d1-9b39cd4f7c53",
   "metadata": {
    "tags": []
   },
   "outputs": [
    {
     "data": {
      "text/plain": [
       "array([[ 2, 13, 44, ...,  0,  2,  0],\n",
       "       [ 3, 11, 33, ...,  0,  6,  3],\n",
       "       [ 3, 68, 52, ...,  1,  2,  2],\n",
       "       ...,\n",
       "       [ 3, 67, 59, ...,  1,  1,  3],\n",
       "       [ 3, 70, 49, ...,  1,  1,  2],\n",
       "       [ 3, 50, 36, ...,  1,  3,  1]], dtype=int64)"
      ]
     },
     "execution_count": 14,
     "metadata": {},
     "output_type": "execute_result"
    }
   ],
   "source": [
    "X"
   ]
  },
  {
   "cell_type": "code",
   "execution_count": 15,
   "id": "176ba52c-7946-4624-a818-b1c91441d665",
   "metadata": {
    "tags": []
   },
   "outputs": [],
   "source": [
    "Y = cust.custcat.values"
   ]
  },
  {
   "cell_type": "code",
   "execution_count": 17,
   "id": "18cd220f-854d-44c0-90d5-a423a24f58f6",
   "metadata": {
    "tags": []
   },
   "outputs": [
    {
     "data": {
      "text/plain": [
       "array([0, 3, 2, 0, 2])"
      ]
     },
     "execution_count": 17,
     "metadata": {},
     "output_type": "execute_result"
    }
   ],
   "source": [
    "Y[0:5]"
   ]
  },
  {
   "cell_type": "code",
   "execution_count": 18,
   "id": "3a86b581-6d8d-4d7b-af64-4e30051e984c",
   "metadata": {
    "tags": []
   },
   "outputs": [
    {
     "data": {
      "text/plain": [
       "array([[-0.02696767, -1.055125  ,  0.18450456, -0.12650641,  1.0100505 ,\n",
       "        -0.25303431,  1.0877526 , -0.5941226 , -0.22207644, -1.03459817,\n",
       "        -0.23065004, -1.32797979],\n",
       "       [ 1.19883553, -1.14880563, -0.69181243,  0.54644972,  1.0100505 ,\n",
       "        -0.4514148 ,  1.9062271 , -0.5941226 , -0.22207644, -1.03459817,\n",
       "         2.55666158,  1.35119935],\n",
       "       [ 1.19883553,  1.52109247,  0.82182601,  0.35951747,  1.0100505 ,\n",
       "         1.23481934, -1.36767088,  1.78752803, -0.22207644,  0.96655883,\n",
       "        -0.23065004,  0.45813963],\n",
       "       [-0.02696767, -0.11831864, -0.69181243, -0.41625141, -0.9900495 ,\n",
       "         0.04453642, -0.54919639, -1.09029981, -0.22207644,  0.96655883,\n",
       "        -0.92747794, -1.32797979],\n",
       "       [-0.02696767, -0.58672182, -0.93080797, -0.44429125,  1.0100505 ,\n",
       "        -0.25303431, -1.36767088, -0.89182893, -0.22207644, -1.03459817,\n",
       "         1.16300577,  0.45813963]])"
      ]
     },
     "execution_count": 18,
     "metadata": {},
     "output_type": "execute_result"
    }
   ],
   "source": [
    "X = preprocessing.StandardScaler().fit(X).transform(X.astype(float))\n",
    "X[0:5]"
   ]
  },
  {
   "cell_type": "code",
   "execution_count": 21,
   "id": "35cb346b-390d-4e43-a3bb-c65afb4cc7ea",
   "metadata": {
    "tags": []
   },
   "outputs": [
    {
     "name": "stdout",
     "output_type": "stream",
     "text": [
      "Train set: (800, 12) (800,)\n",
      "Test set: (200, 12) (200,)\n"
     ]
    }
   ],
   "source": [
    "from sklearn.model_selection import train_test_split\n",
    "x_train, x_test, y_train, y_test = train_test_split(X,Y,train_size=0.8, random_state=4)\n",
    "print ('Train set:', x_train.shape,  y_train.shape)\n",
    "print ('Test set:', x_test.shape,  y_test.shape)"
   ]
  },
  {
   "cell_type": "code",
   "execution_count": 23,
   "id": "d775886b-aac4-4baa-8de1-6c48db643394",
   "metadata": {
    "tags": []
   },
   "outputs": [],
   "source": [
    "from sklearn.neighbors import KNeighborsClassifier\n",
    "k = 4\n",
    "neigh = KNeighborsClassifier(n_neighbors=k).fit(x_train, y_train)"
   ]
  },
  {
   "cell_type": "code",
   "execution_count": 24,
   "id": "e5fa7805-cd69-43ab-808f-6ce6814bebda",
   "metadata": {
    "tags": []
   },
   "outputs": [],
   "source": [
    "y_hat = neigh.predict(x_test)\n"
   ]
  },
  {
   "cell_type": "code",
   "execution_count": 28,
   "id": "187b181e-277f-4cc4-bf23-0eeb4c6a3bbb",
   "metadata": {
    "tags": []
   },
   "outputs": [
    {
     "name": "stdout",
     "output_type": "stream",
     "text": [
      "Train set Accuracy:  0.82875\n",
      "Test set Accuracy:  0.735\n"
     ]
    }
   ],
   "source": [
    "from sklearn import metrics\n",
    "print(\"Train set Accuracy: \", metrics.accuracy_score(y_train, neigh.predict(x_train)))\n",
    "print(\"Test set Accuracy: \", metrics.accuracy_score(y_test, y_hat))"
   ]
  },
  {
   "cell_type": "code",
   "execution_count": 29,
   "id": "a3f0b772-6550-4eb9-931c-70f143f1619e",
   "metadata": {
    "tags": []
   },
   "outputs": [
    {
     "data": {
      "text/plain": [
       "array([0.76 , 0.68 , 0.725, 0.735, 0.73 , 0.755, 0.775, 0.77 , 0.765,\n",
       "       0.79 , 0.795, 0.79 , 0.8  , 0.775, 0.775, 0.775, 0.77 , 0.775,\n",
       "       0.78 , 0.79 ])"
      ]
     },
     "execution_count": 29,
     "metadata": {},
     "output_type": "execute_result"
    }
   ],
   "source": [
    "krange = 21\n",
    "\n",
    "mean_acc = np.zeros((krange-1))\n",
    "std_acc = np.zeros((krange-1))\n",
    "\n",
    "for i in range(1,krange):\n",
    "    knn = KNeighborsClassifier(n_neighbors=i).fit(x_train, y_train)\n",
    "    y_hat = knn.predict(x_test)\n",
    "    mean_acc[i-1] = metrics.accuracy_score(y_test, y_hat)\n",
    "    std_acc[i-1] = np.std(y_hat==y_test)/np.sqrt(y_hat.shape[0])\n",
    "    \n",
    "mean_acc"
   ]
  },
  {
   "cell_type": "code",
   "execution_count": 30,
   "id": "a7debe2a-243f-4719-974b-a94304ab6261",
   "metadata": {
    "tags": []
   },
   "outputs": [
    {
     "data": {
      "image/png": "[encoded data removed]",
      "text/plain": [
       "<Figure size 640x480 with 1 Axes>"
      ]
     },
     "metadata": {},
     "output_type": "display_data"
    }
   ],
   "source": [
    "#Plotting Accuracy\n",
    "plt.plot(range(1,krange), mean_acc, 'g')\n",
    "plt.fill_between(range(1,krange), mean_acc-1*std_acc, mean_acc+1*std_acc, alpha =0.1)\n",
    "plt.fill_between(range(1,krange), mean_acc-3*std_acc, mean_acc+3*std_acc, alpha =0.1, color='green')\n",
    "plt.legend(('Accuracy','+/-1xstd','+/-3xstd'))\n",
    "plt.xlabel('K-Neighbours')\n",
    "plt.ylabel('Accuracy')\n",
    "plt.tight_layout()\n",
    "plt.show()"
   ]
  },
  {
   "cell_type": "code",
   "execution_count": 31,
   "id": "c916997f-6f13-45a6-a8f2-b0050987d959",
   "metadata": {
    "tags": []
   },
   "outputs": [
    {
     "name": "stdout",
     "output_type": "stream",
     "text": [
      "The best accuracy was with 0.8 with k= 13\n"
     ]
    }
   ],
   "source": [
    "print( \"The best accuracy was with\", mean_acc.max(), \"with k=\", mean_acc.argmax()+1) "
   ]
  },
  {
   "cell_type": "code",
   "execution_count": null,
   "id": "e855c5f7-5dad-40e9-a747-00e2c10170cb",
   "metadata": {},
   "outputs": [],
   "source": [
    "\n"
   ]
  }
 ],
 "metadata": {
  "kernelspec": {
   "display_name": "Python 3 (ipykernel)",
   "language": "python",
   "name": "python3"
  },
  "language_info": {
   "codemirror_mode": {
    "name": "ipython",
    "version": 3
   },
   "file_extension": ".py",
   "mimetype": "text/x-python",
   "name": "python",
   "nbconvert_exporter": "python",
   "pygments_lexer": "ipython3",
   "version": "3.10.9"
  }
 },
 "nbformat": 4,
 "nbformat_minor": 5
}
