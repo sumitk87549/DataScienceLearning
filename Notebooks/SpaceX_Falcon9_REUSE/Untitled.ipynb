{
 "cells": [
  {
   "cell_type": "code",
   "execution_count": 7,
   "id": "9faae20e-a6c4-446e-bfa8-29e686ba7288",
   "metadata": {
    "tags": []
   },
   "outputs": [],
   "source": [
    "import pandas as pd\n",
    "data = pd.read_csv(\"https://cf-courses-data.s3.us.cloud-object-storage.appdomain.cloud/IBM-DS0321EN-SkillsNetwork/datasets/spacex_launch_dash.csv\")"
   ]
  },
  {
   "cell_type": "code",
   "execution_count": 8,
   "id": "adc75db1-10c7-4d85-a9ac-7be70d9f175a",
   "metadata": {
    "tags": []
   },
   "outputs": [],
   "source": [
    "\n",
    "import plotly.express as px"
   ]
  },
  {
   "cell_type": "code",
   "execution_count": 29,
   "id": "ef87c7ab-cf81-410f-b23f-190ad6f71e14",
   "metadata": {
    "tags": []
   },
   "outputs": [
    {
     "name": "stdout",
     "output_type": "stream",
     "text": [
      "<class 'pandas.core.frame.DataFrame'>\n",
      "RangeIndex: 56 entries, 0 to 55\n",
      "Data columns (total 7 columns):\n",
      " #   Column                    Non-Null Count  Dtype  \n",
      "---  ------                    --------------  -----  \n",
      " 0   Unnamed: 0                56 non-null     int64  \n",
      " 1   Flight Number             56 non-null     int64  \n",
      " 2   Launch Site               56 non-null     object \n",
      " 3   class                     56 non-null     int64  \n",
      " 4   Payload Mass (kg)         56 non-null     float64\n",
      " 5   Booster Version           56 non-null     object \n",
      " 6   Booster Version Category  56 non-null     object \n",
      "dtypes: float64(1), int64(3), object(3)\n",
      "memory usage: 3.2+ KB\n"
     ]
    }
   ],
   "source": [
    "data.info()"
   ]
  },
  {
   "cell_type": "code",
   "execution_count": 11,
   "id": "96c25fa6-d724-4e06-b57c-0eedf5210074",
   "metadata": {},
   "outputs": [],
   "source": [
    "spacex_df = data"
   ]
  },
  {
   "cell_type": "code",
   "execution_count": 22,
   "id": "48b65f5b-72e8-4c77-99b4-db4d15f267b9",
   "metadata": {
    "tags": []
   },
   "outputs": [
    {
     "data": {
      "text/html": [
       "<div>\n",
       "<style scoped>\n",
       "    .dataframe tbody tr th:only-of-type {\n",
       "        vertical-align: middle;\n",
       "    }\n",
       "\n",
       "    .dataframe tbody tr th {\n",
       "        vertical-align: top;\n",
       "    }\n",
       "\n",
       "    .dataframe thead th {\n",
       "        text-align: right;\n",
       "    }\n",
       "</style>\n",
       "<table border=\"1\" class=\"dataframe\">\n",
       "  <thead>\n",
       "    <tr style=\"text-align: right;\">\n",
       "      <th></th>\n",
       "      <th>Unnamed: 0</th>\n",
       "      <th>Flight Number</th>\n",
       "      <th>Launch Site</th>\n",
       "      <th>class</th>\n",
       "      <th>Payload Mass (kg)</th>\n",
       "      <th>Booster Version</th>\n",
       "      <th>Booster Version Category</th>\n",
       "    </tr>\n",
       "  </thead>\n",
       "  <tbody>\n",
       "    <tr>\n",
       "      <th>0</th>\n",
       "      <td>0</td>\n",
       "      <td>1</td>\n",
       "      <td>CCAFS LC-40</td>\n",
       "      <td>0</td>\n",
       "      <td>0.0</td>\n",
       "      <td>F9 v1.0  B0003</td>\n",
       "      <td>v1.0</td>\n",
       "    </tr>\n",
       "    <tr>\n",
       "      <th>1</th>\n",
       "      <td>1</td>\n",
       "      <td>2</td>\n",
       "      <td>CCAFS LC-40</td>\n",
       "      <td>0</td>\n",
       "      <td>0.0</td>\n",
       "      <td>F9 v1.0  B0004</td>\n",
       "      <td>v1.0</td>\n",
       "    </tr>\n",
       "    <tr>\n",
       "      <th>2</th>\n",
       "      <td>2</td>\n",
       "      <td>3</td>\n",
       "      <td>CCAFS LC-40</td>\n",
       "      <td>0</td>\n",
       "      <td>525.0</td>\n",
       "      <td>F9 v1.0  B0005</td>\n",
       "      <td>v1.0</td>\n",
       "    </tr>\n",
       "    <tr>\n",
       "      <th>3</th>\n",
       "      <td>3</td>\n",
       "      <td>4</td>\n",
       "      <td>CCAFS LC-40</td>\n",
       "      <td>0</td>\n",
       "      <td>500.0</td>\n",
       "      <td>F9 v1.0  B0006</td>\n",
       "      <td>v1.0</td>\n",
       "    </tr>\n",
       "    <tr>\n",
       "      <th>4</th>\n",
       "      <td>4</td>\n",
       "      <td>5</td>\n",
       "      <td>CCAFS LC-40</td>\n",
       "      <td>0</td>\n",
       "      <td>677.0</td>\n",
       "      <td>F9 v1.0  B0007</td>\n",
       "      <td>v1.0</td>\n",
       "    </tr>\n",
       "    <tr>\n",
       "      <th>5</th>\n",
       "      <td>5</td>\n",
       "      <td>7</td>\n",
       "      <td>CCAFS LC-40</td>\n",
       "      <td>0</td>\n",
       "      <td>3170.0</td>\n",
       "      <td>F9 v1.1</td>\n",
       "      <td>v1.1</td>\n",
       "    </tr>\n",
       "    <tr>\n",
       "      <th>6</th>\n",
       "      <td>6</td>\n",
       "      <td>8</td>\n",
       "      <td>CCAFS LC-40</td>\n",
       "      <td>0</td>\n",
       "      <td>3325.0</td>\n",
       "      <td>F9 v1.1</td>\n",
       "      <td>v1.1</td>\n",
       "    </tr>\n",
       "    <tr>\n",
       "      <th>7</th>\n",
       "      <td>7</td>\n",
       "      <td>9</td>\n",
       "      <td>CCAFS LC-40</td>\n",
       "      <td>0</td>\n",
       "      <td>2296.0</td>\n",
       "      <td>F9 v1.1</td>\n",
       "      <td>v1.1</td>\n",
       "    </tr>\n",
       "    <tr>\n",
       "      <th>8</th>\n",
       "      <td>8</td>\n",
       "      <td>10</td>\n",
       "      <td>CCAFS LC-40</td>\n",
       "      <td>0</td>\n",
       "      <td>1316.0</td>\n",
       "      <td>F9 v1.1</td>\n",
       "      <td>v1.1</td>\n",
       "    </tr>\n",
       "    <tr>\n",
       "      <th>9</th>\n",
       "      <td>9</td>\n",
       "      <td>11</td>\n",
       "      <td>CCAFS LC-40</td>\n",
       "      <td>0</td>\n",
       "      <td>4535.0</td>\n",
       "      <td>F9 v1.1</td>\n",
       "      <td>v1.1</td>\n",
       "    </tr>\n",
       "    <tr>\n",
       "      <th>10</th>\n",
       "      <td>10</td>\n",
       "      <td>12</td>\n",
       "      <td>CCAFS LC-40</td>\n",
       "      <td>0</td>\n",
       "      <td>4428.0</td>\n",
       "      <td>F9 v1.1 B1011</td>\n",
       "      <td>v1.1</td>\n",
       "    </tr>\n",
       "    <tr>\n",
       "      <th>11</th>\n",
       "      <td>11</td>\n",
       "      <td>13</td>\n",
       "      <td>CCAFS LC-40</td>\n",
       "      <td>0</td>\n",
       "      <td>2216.0</td>\n",
       "      <td>F9 v1.1 B1010</td>\n",
       "      <td>v1.1</td>\n",
       "    </tr>\n",
       "  </tbody>\n",
       "</table>\n",
       "</div>"
      ],
      "text/plain": [
       "    Unnamed: 0  Flight Number  Launch Site  class  Payload Mass (kg)  \\\n",
       "0            0              1  CCAFS LC-40      0                0.0   \n",
       "1            1              2  CCAFS LC-40      0                0.0   \n",
       "2            2              3  CCAFS LC-40      0              525.0   \n",
       "3            3              4  CCAFS LC-40      0              500.0   \n",
       "4            4              5  CCAFS LC-40      0              677.0   \n",
       "5            5              7  CCAFS LC-40      0             3170.0   \n",
       "6            6              8  CCAFS LC-40      0             3325.0   \n",
       "7            7              9  CCAFS LC-40      0             2296.0   \n",
       "8            8             10  CCAFS LC-40      0             1316.0   \n",
       "9            9             11  CCAFS LC-40      0             4535.0   \n",
       "10          10             12  CCAFS LC-40      0             4428.0   \n",
       "11          11             13  CCAFS LC-40      0             2216.0   \n",
       "\n",
       "   Booster Version Booster Version Category  \n",
       "0   F9 v1.0  B0003                     v1.0  \n",
       "1   F9 v1.0  B0004                     v1.0  \n",
       "2   F9 v1.0  B0005                     v1.0  \n",
       "3   F9 v1.0  B0006                     v1.0  \n",
       "4   F9 v1.0  B0007                     v1.0  \n",
       "5          F9 v1.1                     v1.1  \n",
       "6          F9 v1.1                     v1.1  \n",
       "7          F9 v1.1                     v1.1  \n",
       "8          F9 v1.1                     v1.1  \n",
       "9          F9 v1.1                     v1.1  \n",
       "10   F9 v1.1 B1011                     v1.1  \n",
       "11   F9 v1.1 B1010                     v1.1  "
      ]
     },
     "execution_count": 22,
     "metadata": {},
     "output_type": "execute_result"
    }
   ],
   "source": [
    "filter_s = spacex_df[spacex_df['Launch Site'] == 'CCAFS LC-40']\n",
    "filter_s.head(12)"
   ]
  },
  {
   "cell_type": "code",
   "execution_count": 28,
   "id": "214edcdb-01f0-44a0-a3c5-fcda90ec172e",
   "metadata": {
    "tags": []
   },
   "outputs": [
    {
     "data": {
      "text/plain": [
       "class\n",
       "0    73.076923\n",
       "1    26.923077\n",
       "Name: class, dtype: float64"
      ]
     },
     "execution_count": 28,
     "metadata": {},
     "output_type": "execute_result"
    }
   ],
   "source": [
    "lsc = filter_s.groupby(['class'])['class'].count()/len(filter_s['class'])*100\n",
    "lsc.head()"
   ]
  },
  {
   "cell_type": "code",
   "execution_count": 25,
   "id": "8c3b839d-f606-4854-80ef-e28628a1ad52",
   "metadata": {
    "tags": []
   },
   "outputs": [
    {
     "data": {
      "text/plain": [
       "class\n",
       "0        19\n",
       "1         7\n",
       "dtype: int64"
      ]
     },
     "execution_count": 25,
     "metadata": {},
     "output_type": "execute_result"
    }
   ],
   "source": [
    "filter_s[['class']].value_counts()"
   ]
  },
  {
   "cell_type": "code",
   "execution_count": null,
   "id": "bc877ecf-9f47-4037-b0e3-bf2d1e4a40d6",
   "metadata": {},
   "outputs": [],
   "source": [
    "\n",
    "fig = px.pie(data, names=['Success','Fail'], values=filter_s,title='YO YO')\n",
    "fig"
   ]
  }
 ],
 "metadata": {
  "kernelspec": {
   "display_name": "Python 3 (ipykernel)",
   "language": "python",
   "name": "python3"
  },
  "language_info": {
   "codemirror_mode": {
    "name": "ipython",
    "version": 3
   },
   "file_extension": ".py",
   "mimetype": "text/x-python",
   "name": "python",
   "nbconvert_exporter": "python",
   "pygments_lexer": "ipython3",
   "version": "3.10.9"
  }
 },
 "nbformat": 4,
 "nbformat_minor": 5
}
