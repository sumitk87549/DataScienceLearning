{
 "cells": [
  {
   "cell_type": "markdown",
   "id": "11861e07-afc7-4c8a-8a1f-6ac039c61734",
   "metadata": {},
   "source": [
    "<p style=\"text-align:center\">\n",
    "    <a href=\"https://www.kaggle.com/datasets/joyshil0599/exploring-wealth-forbes-richest-people-dataset\" target=\"_blank\">\n",
    "    <img src=\"forbes-logo.png\" width=\"200\" alt=\"Forbes\"  />\n",
    "    </a>\n",
    "</p>\n",
    "\n",
    "# Exploring Wealth: Forbes Richest People"
   ]
  },
  {
   "cell_type": "markdown",
   "id": "c5dee3c3-b432-469a-abce-597895125788",
   "metadata": {},
   "source": [
    "\n",
    "## Notebook\n",
    "Exploratory Analysis of Forbes Richest People\n",
    "\n",
    "### Objectives\n",
    "\n",
    "In this lab:\n",
    "\n",
    "-   Acquire data from kaggle\n",
    "-   Obtain insights from data with Pandas library"
   ]
  },
  {
   "cell_type": "markdown",
   "id": "fae2a63c-e6a2-48cb-a49d-adc8c6be3824",
   "metadata": {},
   "source": [
    "<h2>Table of Contents</h2>\n",
    "\n",
    "<div class=\"alert alert-block alert-info\" style=\"margin-top: 20px\">\n",
    "<ol>\n",
    "    <li><a href=\"#data_introduction\">Introduction</a>\n",
    "    <li><a href=\"#data_acquisition\">Data Acquisition</a>\n",
    "    <li><a href=\"#basic_insight\">Basic Insight of Dataset</a></li>\n",
    "    <li><a href=\"#pattern_visualization\">Analyzing Individual Feature Patterns Using Visualization</a></li>\n",
    "</ol>\n",
    "\n",
    "\n",
    "</div>\n",
    "<hr>\n"
   ]
  },
  {
   "cell_type": "markdown",
   "id": "95061bae-763d-4439-afce-7173792331eb",
   "metadata": {},
   "source": [
    "<h1 id=\"data_introduction\">Introduction</h1>\n",
    "\n",
    "<p>The Forbes Richest People Dataset is a collection of data related to the world's wealthiest individuals. It includes information about the billionaire's origins, current net worth, source of wealth, age, gender, education, and philanthropic activities. The dataset is regularly updated by Forbes and is widely used by researchers, analysts, and journalists to study trends in wealth accumulation, income inequality, and economic growth.<br>\n",
    "    \n",
    "<ul>\n",
    "    <li>Data source: <a href=\"https://www.kaggle.com/datasets/joyshil0599/exploring-wealth-forbes-richest-people-dataset\" target=\"_blank\">https://www.kaggle.com/datasets/joyshil0599/exploring-wealth-forbes-richest-people-dataset</a></li>\n",
    "    <li>Data type: csv</li>\n",
    "</ul>\n",
    "\n",
    "</p>\n"
   ]
  },
  {
   "cell_type": "markdown",
   "id": "3c3fe3ad-8d8b-4d73-a7ba-c01b01d03e81",
   "metadata": {},
   "source": [
    "<h1 id=\"data_acquisition\">Data Acquisition</h1>"
   ]
  },
  {
   "cell_type": "code",
   "execution_count": null,
   "id": "fbdd4851-fce0-4158-ad0e-743878186fae",
   "metadata": {
    "tags": []
   },
   "outputs": [],
   "source": [
    "!pip install opendatasets\n"
   ]
  },
  {
   "cell_type": "code",
   "execution_count": 1,
   "id": "7d3ada21-e06d-4e69-b929-dfead3629447",
   "metadata": {
    "tags": []
   },
   "outputs": [],
   "source": [
    "# Importing Libraries\n",
    "import pandas as pd\n",
    "import numpy as np\n",
    "import opendatasets as od"
   ]
  },
  {
   "cell_type": "code",
   "execution_count": 2,
   "id": "b0c251c2-84b0-4ba2-b025-e2f421533e64",
   "metadata": {
    "tags": []
   },
   "outputs": [
    {
     "name": "stdout",
     "output_type": "stream",
     "text": [
      "Skipping, found downloaded files in \".\\exploring-wealth-forbes-richest-people-dataset\" (use force=True to force download)\n"
     ]
    }
   ],
   "source": [
    "od.download('https://www.kaggle.com/datasets/joyshil0599/exploring-wealth-forbes-richest-people-dataset/code')"
   ]
  },
  {
   "cell_type": "code",
   "execution_count": 3,
   "id": "dfc49bd0-f42d-49e2-92c6-da386c8f26ac",
   "metadata": {
    "tags": []
   },
   "outputs": [],
   "source": [
    "csv_path = r\"exploring-wealth-forbes-richest-people-dataset\\forbes_richman.csv\"\n",
    "df = pd.read_csv(csv_path, encoding = \"ISO-8859-1\")"
   ]
  },
  {
   "cell_type": "markdown",
   "id": "658d5763-906f-4d6a-80a7-bb3f713a47c2",
   "metadata": {},
   "source": [
    "<h1 id=\"basic_insight\">Basic Insights of Dataset</h1>"
   ]
  },
  {
   "cell_type": "code",
   "execution_count": 4,
   "id": "d924a660-fb8b-4511-8a56-fda8823978c0",
   "metadata": {
    "tags": []
   },
   "outputs": [
    {
     "data": {
      "text/html": [
       "<div>\n",
       "<style scoped>\n",
       "    .dataframe tbody tr th:only-of-type {\n",
       "        vertical-align: middle;\n",
       "    }\n",
       "\n",
       "    .dataframe tbody tr th {\n",
       "        vertical-align: top;\n",
       "    }\n",
       "\n",
       "    .dataframe thead th {\n",
       "        text-align: right;\n",
       "    }\n",
       "</style>\n",
       "<table border=\"1\" class=\"dataframe\">\n",
       "  <thead>\n",
       "    <tr style=\"text-align: right;\">\n",
       "      <th></th>\n",
       "      <th>Rank</th>\n",
       "      <th>Name</th>\n",
       "      <th>Net Worth</th>\n",
       "      <th>Age</th>\n",
       "      <th>Country</th>\n",
       "      <th>Source</th>\n",
       "      <th>Industry</th>\n",
       "    </tr>\n",
       "  </thead>\n",
       "  <tbody>\n",
       "    <tr>\n",
       "      <th>0</th>\n",
       "      <td>1.0</td>\n",
       "      <td>Elon Musk</td>\n",
       "      <td>$219 B</td>\n",
       "      <td>50.0</td>\n",
       "      <td>United States</td>\n",
       "      <td>Tesla, SpaceX</td>\n",
       "      <td>Automotive</td>\n",
       "    </tr>\n",
       "    <tr>\n",
       "      <th>1</th>\n",
       "      <td>2.0</td>\n",
       "      <td>Jeff Bezos</td>\n",
       "      <td>$171 B</td>\n",
       "      <td>58.0</td>\n",
       "      <td>United States</td>\n",
       "      <td>Amazon</td>\n",
       "      <td>Technology</td>\n",
       "    </tr>\n",
       "    <tr>\n",
       "      <th>2</th>\n",
       "      <td>3.0</td>\n",
       "      <td>Bernard Arnault &amp; family</td>\n",
       "      <td>$158 B</td>\n",
       "      <td>73.0</td>\n",
       "      <td>France</td>\n",
       "      <td>LVMH</td>\n",
       "      <td>Fashion &amp; Retail</td>\n",
       "    </tr>\n",
       "    <tr>\n",
       "      <th>3</th>\n",
       "      <td>4.0</td>\n",
       "      <td>Bill Gates</td>\n",
       "      <td>$129 B</td>\n",
       "      <td>66.0</td>\n",
       "      <td>United States</td>\n",
       "      <td>Microsoft</td>\n",
       "      <td>Technology</td>\n",
       "    </tr>\n",
       "    <tr>\n",
       "      <th>4</th>\n",
       "      <td>5.0</td>\n",
       "      <td>Warren Buffett</td>\n",
       "      <td>$118 B</td>\n",
       "      <td>91.0</td>\n",
       "      <td>United States</td>\n",
       "      <td>Berkshire Hathaway</td>\n",
       "      <td>Finance &amp; Investments</td>\n",
       "    </tr>\n",
       "  </tbody>\n",
       "</table>\n",
       "</div>"
      ],
      "text/plain": [
       "   Rank                      Name Net Worth   Age        Country  \\\n",
       "0   1.0                 Elon Musk    $219 B  50.0  United States   \n",
       "1   2.0                Jeff Bezos    $171 B  58.0  United States   \n",
       "2   3.0  Bernard Arnault & family    $158 B  73.0         France   \n",
       "3   4.0                Bill Gates    $129 B  66.0  United States   \n",
       "4   5.0            Warren Buffett    $118 B  91.0  United States   \n",
       "\n",
       "               Source               Industry  \n",
       "0       Tesla, SpaceX             Automotive  \n",
       "1              Amazon             Technology  \n",
       "2                LVMH       Fashion & Retail  \n",
       "3           Microsoft             Technology  \n",
       "4  Berkshire Hathaway  Finance & Investments  "
      ]
     },
     "execution_count": 4,
     "metadata": {},
     "output_type": "execute_result"
    }
   ],
   "source": [
    "df.head()"
   ]
  },
  {
   "cell_type": "code",
   "execution_count": 5,
   "id": "cf733c6c-dfae-4b59-a566-14abf41d127f",
   "metadata": {
    "tags": []
   },
   "outputs": [
    {
     "data": {
      "text/plain": [
       "Index(['Rank', 'Name', 'Net Worth', 'Age', 'Country', 'Source', 'Industry'], dtype='object')"
      ]
     },
     "execution_count": 5,
     "metadata": {},
     "output_type": "execute_result"
    }
   ],
   "source": [
    "df.columns"
   ]
  },
  {
   "cell_type": "code",
   "execution_count": 6,
   "id": "62123433-de37-4007-b193-762d0363b0a4",
   "metadata": {
    "tags": []
   },
   "outputs": [
    {
     "data": {
      "text/plain": [
       "Rank         float64\n",
       "Name          object\n",
       "Net Worth     object\n",
       "Age          float64\n",
       "Country       object\n",
       "Source        object\n",
       "Industry      object\n",
       "dtype: object"
      ]
     },
     "execution_count": 6,
     "metadata": {},
     "output_type": "execute_result"
    }
   ],
   "source": [
    "df.dtypes"
   ]
  },
  {
   "cell_type": "code",
   "execution_count": 7,
   "id": "d84df08c-9037-4c17-841e-e90d59a68781",
   "metadata": {
    "tags": []
   },
   "outputs": [
    {
     "data": {
      "text/html": [
       "<div>\n",
       "<style scoped>\n",
       "    .dataframe tbody tr th:only-of-type {\n",
       "        vertical-align: middle;\n",
       "    }\n",
       "\n",
       "    .dataframe tbody tr th {\n",
       "        vertical-align: top;\n",
       "    }\n",
       "\n",
       "    .dataframe thead th {\n",
       "        text-align: right;\n",
       "    }\n",
       "</style>\n",
       "<table border=\"1\" class=\"dataframe\">\n",
       "  <thead>\n",
       "    <tr style=\"text-align: right;\">\n",
       "      <th></th>\n",
       "      <th>Rank</th>\n",
       "      <th>Name</th>\n",
       "      <th>Net Worth</th>\n",
       "      <th>Age</th>\n",
       "      <th>Country</th>\n",
       "      <th>Source</th>\n",
       "      <th>Industry</th>\n",
       "    </tr>\n",
       "  </thead>\n",
       "  <tbody>\n",
       "    <tr>\n",
       "      <th>count</th>\n",
       "      <td>2509.000000</td>\n",
       "      <td>2509</td>\n",
       "      <td>2509</td>\n",
       "      <td>2430.000000</td>\n",
       "      <td>2509</td>\n",
       "      <td>2509</td>\n",
       "      <td>2509</td>\n",
       "    </tr>\n",
       "    <tr>\n",
       "      <th>unique</th>\n",
       "      <td>NaN</td>\n",
       "      <td>2494</td>\n",
       "      <td>222</td>\n",
       "      <td>NaN</td>\n",
       "      <td>74</td>\n",
       "      <td>867</td>\n",
       "      <td>18</td>\n",
       "    </tr>\n",
       "    <tr>\n",
       "      <th>top</th>\n",
       "      <td>NaN</td>\n",
       "      <td>Polys Haji-Ioannou</td>\n",
       "      <td>$1.5 B</td>\n",
       "      <td>NaN</td>\n",
       "      <td>United States</td>\n",
       "      <td>real estate</td>\n",
       "      <td>Finance &amp; Investments</td>\n",
       "    </tr>\n",
       "    <tr>\n",
       "      <th>freq</th>\n",
       "      <td>NaN</td>\n",
       "      <td>2</td>\n",
       "      <td>137</td>\n",
       "      <td>NaN</td>\n",
       "      <td>689</td>\n",
       "      <td>138</td>\n",
       "      <td>366</td>\n",
       "    </tr>\n",
       "    <tr>\n",
       "      <th>mean</th>\n",
       "      <td>1255.000000</td>\n",
       "      <td>NaN</td>\n",
       "      <td>NaN</td>\n",
       "      <td>64.296708</td>\n",
       "      <td>NaN</td>\n",
       "      <td>NaN</td>\n",
       "      <td>NaN</td>\n",
       "    </tr>\n",
       "    <tr>\n",
       "      <th>std</th>\n",
       "      <td>724.430236</td>\n",
       "      <td>NaN</td>\n",
       "      <td>NaN</td>\n",
       "      <td>13.357563</td>\n",
       "      <td>NaN</td>\n",
       "      <td>NaN</td>\n",
       "      <td>NaN</td>\n",
       "    </tr>\n",
       "    <tr>\n",
       "      <th>min</th>\n",
       "      <td>1.000000</td>\n",
       "      <td>NaN</td>\n",
       "      <td>NaN</td>\n",
       "      <td>19.000000</td>\n",
       "      <td>NaN</td>\n",
       "      <td>NaN</td>\n",
       "      <td>NaN</td>\n",
       "    </tr>\n",
       "    <tr>\n",
       "      <th>25%</th>\n",
       "      <td>628.000000</td>\n",
       "      <td>NaN</td>\n",
       "      <td>NaN</td>\n",
       "      <td>55.000000</td>\n",
       "      <td>NaN</td>\n",
       "      <td>NaN</td>\n",
       "      <td>NaN</td>\n",
       "    </tr>\n",
       "    <tr>\n",
       "      <th>50%</th>\n",
       "      <td>1255.000000</td>\n",
       "      <td>NaN</td>\n",
       "      <td>NaN</td>\n",
       "      <td>64.000000</td>\n",
       "      <td>NaN</td>\n",
       "      <td>NaN</td>\n",
       "      <td>NaN</td>\n",
       "    </tr>\n",
       "    <tr>\n",
       "      <th>75%</th>\n",
       "      <td>1882.000000</td>\n",
       "      <td>NaN</td>\n",
       "      <td>NaN</td>\n",
       "      <td>74.000000</td>\n",
       "      <td>NaN</td>\n",
       "      <td>NaN</td>\n",
       "      <td>NaN</td>\n",
       "    </tr>\n",
       "    <tr>\n",
       "      <th>max</th>\n",
       "      <td>2509.000000</td>\n",
       "      <td>NaN</td>\n",
       "      <td>NaN</td>\n",
       "      <td>100.000000</td>\n",
       "      <td>NaN</td>\n",
       "      <td>NaN</td>\n",
       "      <td>NaN</td>\n",
       "    </tr>\n",
       "  </tbody>\n",
       "</table>\n",
       "</div>"
      ],
      "text/plain": [
       "               Rank                Name Net Worth          Age        Country  \\\n",
       "count   2509.000000                2509      2509  2430.000000           2509   \n",
       "unique          NaN                2494       222          NaN             74   \n",
       "top             NaN  Polys Haji-Ioannou    $1.5 B          NaN  United States   \n",
       "freq            NaN                   2       137          NaN            689   \n",
       "mean    1255.000000                 NaN       NaN    64.296708            NaN   \n",
       "std      724.430236                 NaN       NaN    13.357563            NaN   \n",
       "min        1.000000                 NaN       NaN    19.000000            NaN   \n",
       "25%      628.000000                 NaN       NaN    55.000000            NaN   \n",
       "50%     1255.000000                 NaN       NaN    64.000000            NaN   \n",
       "75%     1882.000000                 NaN       NaN    74.000000            NaN   \n",
       "max     2509.000000                 NaN       NaN   100.000000            NaN   \n",
       "\n",
       "             Source               Industry  \n",
       "count          2509                   2509  \n",
       "unique          867                     18  \n",
       "top     real estate  Finance & Investments  \n",
       "freq            138                    366  \n",
       "mean            NaN                    NaN  \n",
       "std             NaN                    NaN  \n",
       "min             NaN                    NaN  \n",
       "25%             NaN                    NaN  \n",
       "50%             NaN                    NaN  \n",
       "75%             NaN                    NaN  \n",
       "max             NaN                    NaN  "
      ]
     },
     "execution_count": 7,
     "metadata": {},
     "output_type": "execute_result"
    }
   ],
   "source": [
    "df.describe(include='all')"
   ]
  },
  {
   "cell_type": "code",
   "execution_count": 8,
   "id": "155b35ab-808f-47a8-b163-c1fdee3f9fce",
   "metadata": {
    "tags": []
   },
   "outputs": [
    {
     "name": "stdout",
     "output_type": "stream",
     "text": [
      "<class 'pandas.core.frame.DataFrame'>\n",
      "RangeIndex: 2632 entries, 0 to 2631\n",
      "Data columns (total 7 columns):\n",
      " #   Column     Non-Null Count  Dtype  \n",
      "---  ------     --------------  -----  \n",
      " 0   Rank       2509 non-null   float64\n",
      " 1   Name       2509 non-null   object \n",
      " 2   Net Worth  2509 non-null   object \n",
      " 3   Age        2430 non-null   float64\n",
      " 4   Country    2509 non-null   object \n",
      " 5   Source     2509 non-null   object \n",
      " 6   Industry   2509 non-null   object \n",
      "dtypes: float64(2), object(5)\n",
      "memory usage: 144.1+ KB\n"
     ]
    }
   ],
   "source": [
    "df.info()"
   ]
  },
  {
   "cell_type": "markdown",
   "id": "bc1ca248-92a5-4fe9-be84-f1aaa46222ca",
   "metadata": {},
   "source": [
    "#### Dealing with Null Data"
   ]
  },
  {
   "cell_type": "code",
   "execution_count": 9,
   "id": "90577b66-a606-490b-a592-0086c5812bce",
   "metadata": {
    "tags": []
   },
   "outputs": [
    {
     "data": {
      "text/plain": [
       "Rank         123\n",
       "Name         123\n",
       "Net Worth    123\n",
       "Age          202\n",
       "Country      123\n",
       "Source       123\n",
       "Industry     123\n",
       "dtype: int64"
      ]
     },
     "execution_count": 9,
     "metadata": {},
     "output_type": "execute_result"
    }
   ],
   "source": [
    "df.isnull().sum()"
   ]
  },
  {
   "cell_type": "code",
   "execution_count": 10,
   "id": "8d3d7252-ce8f-4f53-994a-8d14e3e7553d",
   "metadata": {
    "tags": []
   },
   "outputs": [
    {
     "data": {
      "text/plain": [
       "Rank         123\n",
       "Name         123\n",
       "Net Worth    123\n",
       "Age          202\n",
       "Country      123\n",
       "Source       123\n",
       "Industry     123\n",
       "dtype: int64"
      ]
     },
     "execution_count": 10,
     "metadata": {},
     "output_type": "execute_result"
    }
   ],
   "source": [
    "df.isna().sum()"
   ]
  },
  {
   "cell_type": "code",
   "execution_count": 11,
   "id": "63a9d1b6-3e29-4bf8-a341-ff1714353a88",
   "metadata": {
    "tags": []
   },
   "outputs": [],
   "source": [
    "df_clean_na = df.dropna(subset=[\"Net Worth\",\"Source\",\"Industry\",\"Country\"],axis=0)"
   ]
  },
  {
   "cell_type": "code",
   "execution_count": 12,
   "id": "38691c97-a446-489e-a4c9-6edd5fa98bcb",
   "metadata": {
    "tags": []
   },
   "outputs": [
    {
     "name": "stdout",
     "output_type": "stream",
     "text": [
      "<class 'pandas.core.frame.DataFrame'>\n",
      "Int64Index: 2509 entries, 0 to 2508\n",
      "Data columns (total 7 columns):\n",
      " #   Column     Non-Null Count  Dtype  \n",
      "---  ------     --------------  -----  \n",
      " 0   Rank       2509 non-null   float64\n",
      " 1   Name       2509 non-null   object \n",
      " 2   Net Worth  2509 non-null   object \n",
      " 3   Age        2430 non-null   float64\n",
      " 4   Country    2509 non-null   object \n",
      " 5   Source     2509 non-null   object \n",
      " 6   Industry   2509 non-null   object \n",
      "dtypes: float64(2), object(5)\n",
      "memory usage: 156.8+ KB\n"
     ]
    }
   ],
   "source": [
    "df_clean_na.info()"
   ]
  },
  {
   "cell_type": "code",
   "execution_count": 13,
   "id": "a6cfcc1a-e2cb-4ec1-8045-410174efe0c6",
   "metadata": {
    "tags": []
   },
   "outputs": [
    {
     "data": {
      "text/plain": [
       "Rank          0\n",
       "Name          0\n",
       "Net Worth     0\n",
       "Age          79\n",
       "Country       0\n",
       "Source        0\n",
       "Industry      0\n",
       "dtype: int64"
      ]
     },
     "execution_count": 13,
     "metadata": {},
     "output_type": "execute_result"
    }
   ],
   "source": [
    "df_clean_na.isnull().sum()"
   ]
  },
  {
   "cell_type": "code",
   "execution_count": 14,
   "id": "83099d73-1879-4ea6-87d7-86d7c53ec535",
   "metadata": {
    "tags": []
   },
   "outputs": [],
   "source": [
    "df_no_null = df_clean_na.fillna(df_clean_na['Age'].mean())"
   ]
  },
  {
   "cell_type": "code",
   "execution_count": 15,
   "id": "f88145a6-3664-4dad-a660-4acf7bc85ccf",
   "metadata": {
    "tags": []
   },
   "outputs": [
    {
     "name": "stdout",
     "output_type": "stream",
     "text": [
      "<class 'pandas.core.frame.DataFrame'>\n",
      "Int64Index: 2509 entries, 0 to 2508\n",
      "Data columns (total 7 columns):\n",
      " #   Column     Non-Null Count  Dtype  \n",
      "---  ------     --------------  -----  \n",
      " 0   Rank       2509 non-null   float64\n",
      " 1   Name       2509 non-null   object \n",
      " 2   Net Worth  2509 non-null   object \n",
      " 3   Age        2509 non-null   float64\n",
      " 4   Country    2509 non-null   object \n",
      " 5   Source     2509 non-null   object \n",
      " 6   Industry   2509 non-null   object \n",
      "dtypes: float64(2), object(5)\n",
      "memory usage: 156.8+ KB\n"
     ]
    }
   ],
   "source": [
    "df_no_null.info()"
   ]
  },
  {
   "cell_type": "code",
   "execution_count": 16,
   "id": "c5624831-8a81-4553-8ae9-d201e1154c10",
   "metadata": {
    "tags": []
   },
   "outputs": [
    {
     "data": {
      "text/plain": [
       "Rank         0\n",
       "Name         0\n",
       "Net Worth    0\n",
       "Age          0\n",
       "Country      0\n",
       "Source       0\n",
       "Industry     0\n",
       "dtype: int64"
      ]
     },
     "execution_count": 16,
     "metadata": {},
     "output_type": "execute_result"
    }
   ],
   "source": [
    "df_no_null.isna().sum()"
   ]
  },
  {
   "cell_type": "code",
   "execution_count": 17,
   "id": "8163060d-d531-419c-9f40-76a3ebf35436",
   "metadata": {
    "tags": []
   },
   "outputs": [],
   "source": [
    "df_clean_na.to_csv(r\"exploring-wealth-forbes-richest-people-dataset\\forbes_richman_clean_null_rows.csv\", index=False)"
   ]
  },
  {
   "cell_type": "code",
   "execution_count": 18,
   "id": "43e7547e-125a-437f-a750-f815a21f3269",
   "metadata": {
    "tags": []
   },
   "outputs": [],
   "source": [
    "df_no_null.to_csv(r\"exploring-wealth-forbes-richest-people-dataset\\forbes_richman_age_nulls_adusted_with_mean.csv\", index=False)"
   ]
  },
  {
   "cell_type": "markdown",
   "id": "f43a5d1d-47f3-4931-83bc-10c442ceaad0",
   "metadata": {},
   "source": [
    "#### Handling Data Types"
   ]
  },
  {
   "cell_type": "code",
   "execution_count": 19,
   "id": "a982ee3e-3f20-4ccd-b981-1e8a2cd26db6",
   "metadata": {
    "tags": []
   },
   "outputs": [
    {
     "data": {
      "text/plain": [
       "0      $219 B\n",
       "1      $171 B\n",
       "2      $158 B\n",
       "3      $129 B\n",
       "4      $118 B\n",
       "5      $111 B\n",
       "6      $107 B\n",
       "7      $106 B\n",
       "8     $91.4 B\n",
       "9     $90.7 B\n",
       "10      $90 B\n",
       "11      $82 B\n",
       "12    $74.8 B\n",
       "13    $67.3 B\n",
       "14    $66.2 B\n",
       "15    $65.7 B\n",
       "16    $65.3 B\n",
       "17      $65 B\n",
       "18      $65 B\n",
       "19      $60 B\n",
       "20      $60 B\n",
       "21    $59.6 B\n",
       "22    $55.1 B\n",
       "23      $50 B\n",
       "24    $49.2 B\n",
       "25    $47.3 B\n",
       "26    $44.8 B\n",
       "27    $43.6 B\n",
       "28    $41.4 B\n",
       "29    $40.4 B\n",
       "Name: Net Worth, dtype: object"
      ]
     },
     "execution_count": 19,
     "metadata": {},
     "output_type": "execute_result"
    }
   ],
   "source": [
    "df_no_null['Net Worth'].head(30)"
   ]
  },
  {
   "cell_type": "code",
   "execution_count": 20,
   "id": "a090989c-4fa1-4495-a03a-1bf77bc5c7af",
   "metadata": {
    "tags": []
   },
   "outputs": [
    {
     "name": "stderr",
     "output_type": "stream",
     "text": [
      "C:\\Users\\Sumit\\AppData\\Local\\Temp\\ipykernel_16032\\2021606806.py:1: FutureWarning: The default value of regex will change from True to False in a future version. In addition, single character regular expressions will *not* be treated as literal strings when regex=True.\n",
      "  df_no_null['Net Worth'] = df_no_null['Net Worth'].str.replace('$', '').str.replace(' B', '').astype(\"float\")\n"
     ]
    }
   ],
   "source": [
    "df_no_null['Net Worth'] = df_no_null['Net Worth'].str.replace('$', '').str.replace(' B', '').astype(\"float\")\n",
    "# apply(lambda x: float(x.strip('M'))*1000000)"
   ]
  },
  {
   "cell_type": "code",
   "execution_count": 21,
   "id": "8370596c-8a46-43d8-b074-a5ab4820b815",
   "metadata": {
    "tags": []
   },
   "outputs": [
    {
     "data": {
      "text/plain": [
       "Rank         float64\n",
       "Name          object\n",
       "Net Worth    float64\n",
       "Age          float64\n",
       "Country       object\n",
       "Source        object\n",
       "Industry      object\n",
       "dtype: object"
      ]
     },
     "execution_count": 21,
     "metadata": {},
     "output_type": "execute_result"
    }
   ],
   "source": [
    "df_no_null.dtypes"
   ]
  },
  {
   "cell_type": "code",
   "execution_count": 22,
   "id": "e2b7c078-8364-47b1-a0bf-f9b0e1e276ba",
   "metadata": {
    "tags": []
   },
   "outputs": [],
   "source": [
    "df_no_null.rename(columns={\"Net Worth\":\"Net Worth in Billion $\"}, inplace=True)"
   ]
  },
  {
   "cell_type": "code",
   "execution_count": 23,
   "id": "8f06c608-d109-46d8-8f03-8366f766483e",
   "metadata": {
    "tags": []
   },
   "outputs": [
    {
     "data": {
      "text/html": [
       "<div>\n",
       "<style scoped>\n",
       "    .dataframe tbody tr th:only-of-type {\n",
       "        vertical-align: middle;\n",
       "    }\n",
       "\n",
       "    .dataframe tbody tr th {\n",
       "        vertical-align: top;\n",
       "    }\n",
       "\n",
       "    .dataframe thead th {\n",
       "        text-align: right;\n",
       "    }\n",
       "</style>\n",
       "<table border=\"1\" class=\"dataframe\">\n",
       "  <thead>\n",
       "    <tr style=\"text-align: right;\">\n",
       "      <th></th>\n",
       "      <th>Rank</th>\n",
       "      <th>Name</th>\n",
       "      <th>Net Worth in Billion $</th>\n",
       "      <th>Age</th>\n",
       "      <th>Country</th>\n",
       "      <th>Source</th>\n",
       "      <th>Industry</th>\n",
       "    </tr>\n",
       "  </thead>\n",
       "  <tbody>\n",
       "    <tr>\n",
       "      <th>count</th>\n",
       "      <td>2509.000000</td>\n",
       "      <td>2509</td>\n",
       "      <td>2509.000000</td>\n",
       "      <td>2509.000000</td>\n",
       "      <td>2509</td>\n",
       "      <td>2509</td>\n",
       "      <td>2509</td>\n",
       "    </tr>\n",
       "    <tr>\n",
       "      <th>unique</th>\n",
       "      <td>NaN</td>\n",
       "      <td>2494</td>\n",
       "      <td>NaN</td>\n",
       "      <td>NaN</td>\n",
       "      <td>74</td>\n",
       "      <td>867</td>\n",
       "      <td>18</td>\n",
       "    </tr>\n",
       "    <tr>\n",
       "      <th>top</th>\n",
       "      <td>NaN</td>\n",
       "      <td>Polys Haji-Ioannou</td>\n",
       "      <td>NaN</td>\n",
       "      <td>NaN</td>\n",
       "      <td>United States</td>\n",
       "      <td>real estate</td>\n",
       "      <td>Finance &amp; Investments</td>\n",
       "    </tr>\n",
       "    <tr>\n",
       "      <th>freq</th>\n",
       "      <td>NaN</td>\n",
       "      <td>2</td>\n",
       "      <td>NaN</td>\n",
       "      <td>NaN</td>\n",
       "      <td>689</td>\n",
       "      <td>138</td>\n",
       "      <td>366</td>\n",
       "    </tr>\n",
       "    <tr>\n",
       "      <th>mean</th>\n",
       "      <td>1255.000000</td>\n",
       "      <td>NaN</td>\n",
       "      <td>4.759486</td>\n",
       "      <td>64.296708</td>\n",
       "      <td>NaN</td>\n",
       "      <td>NaN</td>\n",
       "      <td>NaN</td>\n",
       "    </tr>\n",
       "    <tr>\n",
       "      <th>std</th>\n",
       "      <td>724.430236</td>\n",
       "      <td>NaN</td>\n",
       "      <td>10.672003</td>\n",
       "      <td>13.145503</td>\n",
       "      <td>NaN</td>\n",
       "      <td>NaN</td>\n",
       "      <td>NaN</td>\n",
       "    </tr>\n",
       "    <tr>\n",
       "      <th>min</th>\n",
       "      <td>1.000000</td>\n",
       "      <td>NaN</td>\n",
       "      <td>1.000000</td>\n",
       "      <td>19.000000</td>\n",
       "      <td>NaN</td>\n",
       "      <td>NaN</td>\n",
       "      <td>NaN</td>\n",
       "    </tr>\n",
       "    <tr>\n",
       "      <th>25%</th>\n",
       "      <td>628.000000</td>\n",
       "      <td>NaN</td>\n",
       "      <td>1.500000</td>\n",
       "      <td>55.000000</td>\n",
       "      <td>NaN</td>\n",
       "      <td>NaN</td>\n",
       "      <td>NaN</td>\n",
       "    </tr>\n",
       "    <tr>\n",
       "      <th>50%</th>\n",
       "      <td>1255.000000</td>\n",
       "      <td>NaN</td>\n",
       "      <td>2.300000</td>\n",
       "      <td>64.296708</td>\n",
       "      <td>NaN</td>\n",
       "      <td>NaN</td>\n",
       "      <td>NaN</td>\n",
       "    </tr>\n",
       "    <tr>\n",
       "      <th>75%</th>\n",
       "      <td>1882.000000</td>\n",
       "      <td>NaN</td>\n",
       "      <td>4.300000</td>\n",
       "      <td>74.000000</td>\n",
       "      <td>NaN</td>\n",
       "      <td>NaN</td>\n",
       "      <td>NaN</td>\n",
       "    </tr>\n",
       "    <tr>\n",
       "      <th>max</th>\n",
       "      <td>2509.000000</td>\n",
       "      <td>NaN</td>\n",
       "      <td>219.000000</td>\n",
       "      <td>100.000000</td>\n",
       "      <td>NaN</td>\n",
       "      <td>NaN</td>\n",
       "      <td>NaN</td>\n",
       "    </tr>\n",
       "  </tbody>\n",
       "</table>\n",
       "</div>"
      ],
      "text/plain": [
       "               Rank                Name  Net Worth in Billion $          Age  \\\n",
       "count   2509.000000                2509             2509.000000  2509.000000   \n",
       "unique          NaN                2494                     NaN          NaN   \n",
       "top             NaN  Polys Haji-Ioannou                     NaN          NaN   \n",
       "freq            NaN                   2                     NaN          NaN   \n",
       "mean    1255.000000                 NaN                4.759486    64.296708   \n",
       "std      724.430236                 NaN               10.672003    13.145503   \n",
       "min        1.000000                 NaN                1.000000    19.000000   \n",
       "25%      628.000000                 NaN                1.500000    55.000000   \n",
       "50%     1255.000000                 NaN                2.300000    64.296708   \n",
       "75%     1882.000000                 NaN                4.300000    74.000000   \n",
       "max     2509.000000                 NaN              219.000000   100.000000   \n",
       "\n",
       "              Country       Source               Industry  \n",
       "count            2509         2509                   2509  \n",
       "unique             74          867                     18  \n",
       "top     United States  real estate  Finance & Investments  \n",
       "freq              689          138                    366  \n",
       "mean              NaN          NaN                    NaN  \n",
       "std               NaN          NaN                    NaN  \n",
       "min               NaN          NaN                    NaN  \n",
       "25%               NaN          NaN                    NaN  \n",
       "50%               NaN          NaN                    NaN  \n",
       "75%               NaN          NaN                    NaN  \n",
       "max               NaN          NaN                    NaN  "
      ]
     },
     "execution_count": 23,
     "metadata": {},
     "output_type": "execute_result"
    }
   ],
   "source": [
    "df_no_null.describe(include='all')"
   ]
  },
  {
   "cell_type": "code",
   "execution_count": 24,
   "id": "32fccbb9-5f13-40e5-8d98-9b321a303d96",
   "metadata": {
    "tags": []
   },
   "outputs": [
    {
     "data": {
      "text/plain": [
       "array([ 10.,  20.,  30.,  40.,  50.,  60.,  70.,  80.,  90., 100.])"
      ]
     },
     "execution_count": 24,
     "metadata": {},
     "output_type": "execute_result"
    }
   ],
   "source": [
    "age_bins = np.linspace(10,100,10)\n",
    "age_bins"
   ]
  },
  {
   "cell_type": "code",
   "execution_count": 25,
   "id": "3b85ee8e-8682-44e7-ade7-a9a1c655c0fc",
   "metadata": {
    "tags": []
   },
   "outputs": [],
   "source": [
    "age_group_names = ['10-20','20-30','30-40','40-50','50-60','60-70','70-80','80-90','90-100']"
   ]
  },
  {
   "cell_type": "code",
   "execution_count": 26,
   "id": "3cd09f4b-9f19-4bca-9015-2cf60817fa66",
   "metadata": {
    "tags": []
   },
   "outputs": [
    {
     "data": {
      "text/html": [
       "<div>\n",
       "<style scoped>\n",
       "    .dataframe tbody tr th:only-of-type {\n",
       "        vertical-align: middle;\n",
       "    }\n",
       "\n",
       "    .dataframe tbody tr th {\n",
       "        vertical-align: top;\n",
       "    }\n",
       "\n",
       "    .dataframe thead th {\n",
       "        text-align: right;\n",
       "    }\n",
       "</style>\n",
       "<table border=\"1\" class=\"dataframe\">\n",
       "  <thead>\n",
       "    <tr style=\"text-align: right;\">\n",
       "      <th></th>\n",
       "      <th>Rank</th>\n",
       "      <th>Name</th>\n",
       "      <th>Net Worth in Billion $</th>\n",
       "      <th>Age</th>\n",
       "      <th>Country</th>\n",
       "      <th>Source</th>\n",
       "      <th>Industry</th>\n",
       "      <th>age-bins</th>\n",
       "    </tr>\n",
       "  </thead>\n",
       "  <tbody>\n",
       "    <tr>\n",
       "      <th>0</th>\n",
       "      <td>1.0</td>\n",
       "      <td>Elon Musk</td>\n",
       "      <td>219.0</td>\n",
       "      <td>50.0</td>\n",
       "      <td>United States</td>\n",
       "      <td>Tesla, SpaceX</td>\n",
       "      <td>Automotive</td>\n",
       "      <td>40-50</td>\n",
       "    </tr>\n",
       "    <tr>\n",
       "      <th>1</th>\n",
       "      <td>2.0</td>\n",
       "      <td>Jeff Bezos</td>\n",
       "      <td>171.0</td>\n",
       "      <td>58.0</td>\n",
       "      <td>United States</td>\n",
       "      <td>Amazon</td>\n",
       "      <td>Technology</td>\n",
       "      <td>50-60</td>\n",
       "    </tr>\n",
       "    <tr>\n",
       "      <th>2</th>\n",
       "      <td>3.0</td>\n",
       "      <td>Bernard Arnault &amp; family</td>\n",
       "      <td>158.0</td>\n",
       "      <td>73.0</td>\n",
       "      <td>France</td>\n",
       "      <td>LVMH</td>\n",
       "      <td>Fashion &amp; Retail</td>\n",
       "      <td>70-80</td>\n",
       "    </tr>\n",
       "    <tr>\n",
       "      <th>3</th>\n",
       "      <td>4.0</td>\n",
       "      <td>Bill Gates</td>\n",
       "      <td>129.0</td>\n",
       "      <td>66.0</td>\n",
       "      <td>United States</td>\n",
       "      <td>Microsoft</td>\n",
       "      <td>Technology</td>\n",
       "      <td>60-70</td>\n",
       "    </tr>\n",
       "    <tr>\n",
       "      <th>4</th>\n",
       "      <td>5.0</td>\n",
       "      <td>Warren Buffett</td>\n",
       "      <td>118.0</td>\n",
       "      <td>91.0</td>\n",
       "      <td>United States</td>\n",
       "      <td>Berkshire Hathaway</td>\n",
       "      <td>Finance &amp; Investments</td>\n",
       "      <td>90-100</td>\n",
       "    </tr>\n",
       "    <tr>\n",
       "      <th>5</th>\n",
       "      <td>6.0</td>\n",
       "      <td>Larry Page</td>\n",
       "      <td>111.0</td>\n",
       "      <td>49.0</td>\n",
       "      <td>United States</td>\n",
       "      <td>Google</td>\n",
       "      <td>Technology</td>\n",
       "      <td>40-50</td>\n",
       "    </tr>\n",
       "    <tr>\n",
       "      <th>6</th>\n",
       "      <td>7.0</td>\n",
       "      <td>Sergey Brin</td>\n",
       "      <td>107.0</td>\n",
       "      <td>48.0</td>\n",
       "      <td>United States</td>\n",
       "      <td>Google</td>\n",
       "      <td>Technology</td>\n",
       "      <td>40-50</td>\n",
       "    </tr>\n",
       "    <tr>\n",
       "      <th>7</th>\n",
       "      <td>8.0</td>\n",
       "      <td>Larry Ellison</td>\n",
       "      <td>106.0</td>\n",
       "      <td>77.0</td>\n",
       "      <td>United States</td>\n",
       "      <td>software</td>\n",
       "      <td>Technology</td>\n",
       "      <td>70-80</td>\n",
       "    </tr>\n",
       "    <tr>\n",
       "      <th>8</th>\n",
       "      <td>9.0</td>\n",
       "      <td>Steve Ballmer</td>\n",
       "      <td>91.4</td>\n",
       "      <td>66.0</td>\n",
       "      <td>United States</td>\n",
       "      <td>Microsoft</td>\n",
       "      <td>Technology</td>\n",
       "      <td>60-70</td>\n",
       "    </tr>\n",
       "    <tr>\n",
       "      <th>9</th>\n",
       "      <td>10.0</td>\n",
       "      <td>Mukesh Ambani</td>\n",
       "      <td>90.7</td>\n",
       "      <td>64.0</td>\n",
       "      <td>India</td>\n",
       "      <td>diversified</td>\n",
       "      <td>Diversified</td>\n",
       "      <td>60-70</td>\n",
       "    </tr>\n",
       "  </tbody>\n",
       "</table>\n",
       "</div>"
      ],
      "text/plain": [
       "   Rank                      Name  Net Worth in Billion $   Age  \\\n",
       "0   1.0                 Elon Musk                   219.0  50.0   \n",
       "1   2.0                Jeff Bezos                   171.0  58.0   \n",
       "2   3.0  Bernard Arnault & family                   158.0  73.0   \n",
       "3   4.0                Bill Gates                   129.0  66.0   \n",
       "4   5.0            Warren Buffett                   118.0  91.0   \n",
       "5   6.0                Larry Page                   111.0  49.0   \n",
       "6   7.0               Sergey Brin                   107.0  48.0   \n",
       "7   8.0             Larry Ellison                   106.0  77.0   \n",
       "8   9.0             Steve Ballmer                    91.4  66.0   \n",
       "9  10.0             Mukesh Ambani                    90.7  64.0   \n",
       "\n",
       "         Country              Source               Industry age-bins  \n",
       "0  United States       Tesla, SpaceX             Automotive    40-50  \n",
       "1  United States              Amazon             Technology    50-60  \n",
       "2         France                LVMH       Fashion & Retail    70-80  \n",
       "3  United States           Microsoft             Technology    60-70  \n",
       "4  United States  Berkshire Hathaway  Finance & Investments   90-100  \n",
       "5  United States              Google             Technology    40-50  \n",
       "6  United States              Google             Technology    40-50  \n",
       "7  United States            software             Technology    70-80  \n",
       "8  United States           Microsoft             Technology    60-70  \n",
       "9          India         diversified            Diversified    60-70  "
      ]
     },
     "execution_count": 26,
     "metadata": {},
     "output_type": "execute_result"
    }
   ],
   "source": [
    "df_nn = df_no_null\n",
    "df_nn['age-bins']=pd.cut(df_nn['Age'],age_bins,labels=age_group_names, include_lowest=False)\n",
    "df_nn.head(10)"
   ]
  },
  {
   "cell_type": "code",
   "execution_count": 27,
   "id": "92d79328-ef2e-487f-a4f8-8ada91ed32ea",
   "metadata": {
    "tags": []
   },
   "outputs": [
    {
     "data": {
      "text/plain": [
       "age-bins\n",
       "60-70       685\n",
       "50-60       673\n",
       "70-80       519\n",
       "40-50       244\n",
       "80-90       232\n",
       "30-40        84\n",
       "90-100       58\n",
       "20-30        13\n",
       "10-20         1\n",
       "dtype: int64"
      ]
     },
     "execution_count": 27,
     "metadata": {},
     "output_type": "execute_result"
    }
   ],
   "source": [
    "df_nn[['age-bins']].value_counts()\n"
   ]
  },
  {
   "cell_type": "code",
   "execution_count": 28,
   "id": "c81f7c93-d246-483b-9bfa-3ae000ca5966",
   "metadata": {
    "tags": []
   },
   "outputs": [
    {
     "data": {
      "text/plain": [
       "Text(0.5, 1.0, 'age bins')"
      ]
     },
     "execution_count": 28,
     "metadata": {},
     "output_type": "execute_result"
    },
    {
     "data": {
      "image/png": "[encoded data removed]",
      "text/plain": [
       "<Figure size 640x480 with 1 Axes>"
      ]
     },
     "metadata": {},
     "output_type": "display_data"
    }
   ],
   "source": [
    "%matplotlib inline\n",
    "import matplotlib as plt\n",
    "from matplotlib import pyplot\n",
    "pyplot.bar(['60-70','50-60','70-80','40-50','80-90','30-40','90-100','20-30','10-20'], df_nn['age-bins'].value_counts())\n",
    "\n",
    "plt.pyplot.xlabel(\"/Years Old\")\n",
    "plt.pyplot.ylabel(\"count\")\n",
    "plt.pyplot.title(\"age bins\")\n"
   ]
  },
  {
   "cell_type": "markdown",
   "id": "12a4eae8-0e6b-45a3-9adf-c2be117a7ea2",
   "metadata": {},
   "source": [
    "<h2 id=\"pattern_visualization\">Analyzing Individual Feature Patterns Using Visualization</h2>"
   ]
  },
  {
   "cell_type": "code",
   "execution_count": 29,
   "id": "5430fc21-8b1d-4973-9f3e-3b2a8cb411c1",
   "metadata": {
    "tags": []
   },
   "outputs": [
    {
     "name": "stderr",
     "output_type": "stream",
     "text": [
      "C:\\Users\\Sumit\\AppData\\Local\\Temp\\ipykernel_16032\\4163990719.py:1: FutureWarning: The default value of numeric_only in DataFrame.corr is deprecated. In a future version, it will default to False. Select only valid columns or specify the value of numeric_only to silence this warning.\n",
      "  df_nn.corr()\n"
     ]
    },
    {
     "data": {
      "text/html": [
       "<div>\n",
       "<style scoped>\n",
       "    .dataframe tbody tr th:only-of-type {\n",
       "        vertical-align: middle;\n",
       "    }\n",
       "\n",
       "    .dataframe tbody tr th {\n",
       "        vertical-align: top;\n",
       "    }\n",
       "\n",
       "    .dataframe thead th {\n",
       "        text-align: right;\n",
       "    }\n",
       "</style>\n",
       "<table border=\"1\" class=\"dataframe\">\n",
       "  <thead>\n",
       "    <tr style=\"text-align: right;\">\n",
       "      <th></th>\n",
       "      <th>Rank</th>\n",
       "      <th>Net Worth in Billion $</th>\n",
       "      <th>Age</th>\n",
       "    </tr>\n",
       "  </thead>\n",
       "  <tbody>\n",
       "    <tr>\n",
       "      <th>Rank</th>\n",
       "      <td>1.000000</td>\n",
       "      <td>-0.431983</td>\n",
       "      <td>-0.127764</td>\n",
       "    </tr>\n",
       "    <tr>\n",
       "      <th>Net Worth in Billion $</th>\n",
       "      <td>-0.431983</td>\n",
       "      <td>1.000000</td>\n",
       "      <td>0.034804</td>\n",
       "    </tr>\n",
       "    <tr>\n",
       "      <th>Age</th>\n",
       "      <td>-0.127764</td>\n",
       "      <td>0.034804</td>\n",
       "      <td>1.000000</td>\n",
       "    </tr>\n",
       "  </tbody>\n",
       "</table>\n",
       "</div>"
      ],
      "text/plain": [
       "                            Rank  Net Worth in Billion $       Age\n",
       "Rank                    1.000000               -0.431983 -0.127764\n",
       "Net Worth in Billion $ -0.431983                1.000000  0.034804\n",
       "Age                    -0.127764                0.034804  1.000000"
      ]
     },
     "execution_count": 29,
     "metadata": {},
     "output_type": "execute_result"
    }
   ],
   "source": [
    "df_nn.corr()"
   ]
  },
  {
   "cell_type": "code",
   "execution_count": 30,
   "id": "2147f607-d222-4b10-9349-42e4b4d701dd",
   "metadata": {
    "tags": []
   },
   "outputs": [
    {
     "data": {
      "text/plain": [
       "<Axes: xlabel='Age', ylabel='Net Worth in Billion $'>"
      ]
     },
     "execution_count": 30,
     "metadata": {},
     "output_type": "execute_result"
    },
    {
     "data": {
      "image/png": "[encoded data removed]",
      "text/plain": [
       "<Figure size 640x480 with 1 Axes>"
      ]
     },
     "metadata": {},
     "output_type": "display_data"
    }
   ],
   "source": [
    "import seaborn as sns\n",
    "sns.regplot(x=\"Age\",y=\"Net Worth in Billion $\",data=df_nn)"
   ]
  },
  {
   "cell_type": "code",
   "execution_count": 31,
   "id": "4b44f46f-d06d-4cde-8a0a-5f95659f5c1b",
   "metadata": {
    "tags": []
   },
   "outputs": [
    {
     "data": {
      "text/plain": [
       "<Axes: xlabel='age-bins', ylabel='Net Worth in Billion $'>"
      ]
     },
     "execution_count": 31,
     "metadata": {},
     "output_type": "execute_result"
    },
    {
     "data": {
      "image/png": "[encoded data removed]",
      "text/plain": [
       "<Figure size 640x480 with 1 Axes>"
      ]
     },
     "metadata": {},
     "output_type": "display_data"
    }
   ],
   "source": [
    "sns.boxplot(x=\"age-bins\",y=\"Net Worth in Billion $\",data=df_nn)"
   ]
  },
  {
   "cell_type": "code",
   "execution_count": 32,
   "id": "7aed0fee-57e4-4366-9e42-45a015a3e604",
   "metadata": {
    "tags": []
   },
   "outputs": [
    {
     "data": {
      "text/plain": [
       "array(['United States', 'France', 'India', 'China', 'Canada', 'Spain',\n",
       "       'Hong Kong', 'Germany', 'Italy', 'Mexico', 'Australia', 'Austria',\n",
       "       'Japan', 'Indonesia', 'Switzerland', 'Chile', 'Russia',\n",
       "       'Singapore', 'Sweden', 'Czechia', 'United Kingdom', 'Brazil',\n",
       "       'Netherlands', 'United Arab Emirates', 'Ireland', 'Nigeria',\n",
       "       'Denmark', 'Thailand', 'Cyprus', 'Taiwan', 'Malaysia', 'Israel',\n",
       "       'Monaco', 'Colombia', 'New Zealand', 'South Korea', 'Belgium',\n",
       "       'South Africa', 'Philippines', 'Egypt', 'Greece', 'Norway',\n",
       "       'Poland', 'Eswatini (Swaziland)', 'Peru', 'Algeria', 'Kazakhstan',\n",
       "       'Georgia', 'Turkey', 'Portugal', 'Finland', 'Ukraine', 'Argentina',\n",
       "       'Belize', 'Venezuela', 'Vietnam', 'Lebanon', 'Romania', 'Guernsey',\n",
       "       'Oman', 'Iceland', 'Liechtenstein', 'Qatar', 'Bulgaria', 'Morocco',\n",
       "       'Macau', 'Barbados', 'Slovakia', 'St. Kitts and Nevis', 'Tanzania',\n",
       "       'Uruguay', 'Nepal', 'Hungary', 'Estonia'], dtype=object)"
      ]
     },
     "execution_count": 32,
     "metadata": {},
     "output_type": "execute_result"
    }
   ],
   "source": [
    "df_nn.Country.unique()"
   ]
  },
  {
   "cell_type": "code",
   "execution_count": 33,
   "id": "1742b5ec-b1e7-441b-a7b0-118874fd5868",
   "metadata": {
    "tags": []
   },
   "outputs": [],
   "source": [
    "df_group1 = df_nn[['Country','Age','Net Worth in Billion $']]"
   ]
  },
  {
   "cell_type": "code",
   "execution_count": 34,
   "id": "316523bb-369d-4c4a-a12d-ec3c6fc5ada8",
   "metadata": {
    "tags": []
   },
   "outputs": [
    {
     "data": {
      "text/html": [
       "<div>\n",
       "<style scoped>\n",
       "    .dataframe tbody tr th:only-of-type {\n",
       "        vertical-align: middle;\n",
       "    }\n",
       "\n",
       "    .dataframe tbody tr th {\n",
       "        vertical-align: top;\n",
       "    }\n",
       "\n",
       "    .dataframe thead th {\n",
       "        text-align: right;\n",
       "    }\n",
       "</style>\n",
       "<table border=\"1\" class=\"dataframe\">\n",
       "  <thead>\n",
       "    <tr style=\"text-align: right;\">\n",
       "      <th></th>\n",
       "      <th>Country</th>\n",
       "      <th>Age</th>\n",
       "      <th>Net Worth in Billion $</th>\n",
       "    </tr>\n",
       "  </thead>\n",
       "  <tbody>\n",
       "    <tr>\n",
       "      <th>0</th>\n",
       "      <td>Algeria</td>\n",
       "      <td>78.000000</td>\n",
       "      <td>5.100000</td>\n",
       "    </tr>\n",
       "    <tr>\n",
       "      <th>1</th>\n",
       "      <td>Argentina</td>\n",
       "      <td>81.049451</td>\n",
       "      <td>2.333333</td>\n",
       "    </tr>\n",
       "    <tr>\n",
       "      <th>2</th>\n",
       "      <td>Australia</td>\n",
       "      <td>64.216203</td>\n",
       "      <td>4.655814</td>\n",
       "    </tr>\n",
       "    <tr>\n",
       "      <th>3</th>\n",
       "      <td>Austria</td>\n",
       "      <td>68.545455</td>\n",
       "      <td>5.609091</td>\n",
       "    </tr>\n",
       "    <tr>\n",
       "      <th>4</th>\n",
       "      <td>Barbados</td>\n",
       "      <td>34.000000</td>\n",
       "      <td>1.700000</td>\n",
       "    </tr>\n",
       "    <tr>\n",
       "      <th>...</th>\n",
       "      <td>...</td>\n",
       "      <td>...</td>\n",
       "      <td>...</td>\n",
       "    </tr>\n",
       "    <tr>\n",
       "      <th>69</th>\n",
       "      <td>United Kingdom</td>\n",
       "      <td>68.078118</td>\n",
       "      <td>3.728261</td>\n",
       "    </tr>\n",
       "    <tr>\n",
       "      <th>70</th>\n",
       "      <td>United States</td>\n",
       "      <td>66.661079</td>\n",
       "      <td>6.562990</td>\n",
       "    </tr>\n",
       "    <tr>\n",
       "      <th>71</th>\n",
       "      <td>Uruguay</td>\n",
       "      <td>51.000000</td>\n",
       "      <td>1.500000</td>\n",
       "    </tr>\n",
       "    <tr>\n",
       "      <th>72</th>\n",
       "      <td>Venezuela</td>\n",
       "      <td>62.000000</td>\n",
       "      <td>3.500000</td>\n",
       "    </tr>\n",
       "    <tr>\n",
       "      <th>73</th>\n",
       "      <td>Vietnam</td>\n",
       "      <td>57.833333</td>\n",
       "      <td>2.500000</td>\n",
       "    </tr>\n",
       "  </tbody>\n",
       "</table>\n",
       "<p>74 rows × 3 columns</p>\n",
       "</div>"
      ],
      "text/plain": [
       "           Country        Age  Net Worth in Billion $\n",
       "0          Algeria  78.000000                5.100000\n",
       "1        Argentina  81.049451                2.333333\n",
       "2        Australia  64.216203                4.655814\n",
       "3          Austria  68.545455                5.609091\n",
       "4         Barbados  34.000000                1.700000\n",
       "..             ...        ...                     ...\n",
       "69  United Kingdom  68.078118                3.728261\n",
       "70   United States  66.661079                6.562990\n",
       "71         Uruguay  51.000000                1.500000\n",
       "72       Venezuela  62.000000                3.500000\n",
       "73         Vietnam  57.833333                2.500000\n",
       "\n",
       "[74 rows x 3 columns]"
      ]
     },
     "execution_count": 34,
     "metadata": {},
     "output_type": "execute_result"
    }
   ],
   "source": [
    "df_g1 = df_group1.groupby(['Country'],as_index=False).mean()\n",
    "df_g1"
   ]
  },
  {
   "cell_type": "code",
   "execution_count": 37,
   "id": "97025408-d489-4c0e-bd23-5859d7461660",
   "metadata": {
    "tags": []
   },
   "outputs": [
    {
     "data": {
      "text/html": [
       "<div>\n",
       "<style scoped>\n",
       "    .dataframe tbody tr th:only-of-type {\n",
       "        vertical-align: middle;\n",
       "    }\n",
       "\n",
       "    .dataframe tbody tr th {\n",
       "        vertical-align: top;\n",
       "    }\n",
       "\n",
       "    .dataframe thead th {\n",
       "        text-align: right;\n",
       "    }\n",
       "</style>\n",
       "<table border=\"1\" class=\"dataframe\">\n",
       "  <thead>\n",
       "    <tr style=\"text-align: right;\">\n",
       "      <th></th>\n",
       "      <th>Age</th>\n",
       "      <th>Country</th>\n",
       "      <th>Net Worth in Billion $</th>\n",
       "    </tr>\n",
       "  </thead>\n",
       "  <tbody>\n",
       "    <tr>\n",
       "      <th>0</th>\n",
       "      <td>19.0</td>\n",
       "      <td>Germany</td>\n",
       "      <td>2.4</td>\n",
       "    </tr>\n",
       "    <tr>\n",
       "      <th>1</th>\n",
       "      <td>25.0</td>\n",
       "      <td>Brazil</td>\n",
       "      <td>1.5</td>\n",
       "    </tr>\n",
       "    <tr>\n",
       "      <th>2</th>\n",
       "      <td>25.0</td>\n",
       "      <td>China</td>\n",
       "      <td>1.5</td>\n",
       "    </tr>\n",
       "    <tr>\n",
       "      <th>3</th>\n",
       "      <td>25.0</td>\n",
       "      <td>Norway</td>\n",
       "      <td>1.3</td>\n",
       "    </tr>\n",
       "    <tr>\n",
       "      <th>4</th>\n",
       "      <td>26.0</td>\n",
       "      <td>Brazil</td>\n",
       "      <td>1.5</td>\n",
       "    </tr>\n",
       "    <tr>\n",
       "      <th>...</th>\n",
       "      <td>...</td>\n",
       "      <td>...</td>\n",
       "      <td>...</td>\n",
       "    </tr>\n",
       "    <tr>\n",
       "      <th>940</th>\n",
       "      <td>97.0</td>\n",
       "      <td>Japan</td>\n",
       "      <td>4.6</td>\n",
       "    </tr>\n",
       "    <tr>\n",
       "      <th>941</th>\n",
       "      <td>97.0</td>\n",
       "      <td>Peru</td>\n",
       "      <td>1.5</td>\n",
       "    </tr>\n",
       "    <tr>\n",
       "      <th>942</th>\n",
       "      <td>97.0</td>\n",
       "      <td>United States</td>\n",
       "      <td>2.0</td>\n",
       "    </tr>\n",
       "    <tr>\n",
       "      <th>943</th>\n",
       "      <td>98.0</td>\n",
       "      <td>United States</td>\n",
       "      <td>2.5</td>\n",
       "    </tr>\n",
       "    <tr>\n",
       "      <th>944</th>\n",
       "      <td>100.0</td>\n",
       "      <td>United States</td>\n",
       "      <td>1.8</td>\n",
       "    </tr>\n",
       "  </tbody>\n",
       "</table>\n",
       "<p>945 rows × 3 columns</p>\n",
       "</div>"
      ],
      "text/plain": [
       "       Age        Country  Net Worth in Billion $\n",
       "0     19.0        Germany                     2.4\n",
       "1     25.0         Brazil                     1.5\n",
       "2     25.0          China                     1.5\n",
       "3     25.0         Norway                     1.3\n",
       "4     26.0         Brazil                     1.5\n",
       "..     ...            ...                     ...\n",
       "940   97.0          Japan                     4.6\n",
       "941   97.0           Peru                     1.5\n",
       "942   97.0  United States                     2.0\n",
       "943   98.0  United States                     2.5\n",
       "944  100.0  United States                     1.8\n",
       "\n",
       "[945 rows x 3 columns]"
      ]
     },
     "execution_count": 37,
     "metadata": {},
     "output_type": "execute_result"
    }
   ],
   "source": [
    "df_g2 = df_group1.groupby(['Age','Country'],as_index=False).mean()\n",
    "df_g2"
   ]
  },
  {
   "cell_type": "code",
   "execution_count": 39,
   "id": "d33a0cf1-994a-47d4-82fa-75550e06b31d",
   "metadata": {
    "tags": []
   },
   "outputs": [
    {
     "name": "stderr",
     "output_type": "stream",
     "text": [
      "C:\\Users\\Sumit\\AppData\\Local\\Temp\\ipykernel_16032\\3368026274.py:1: FutureWarning: The default value of numeric_only in DataFrameGroupBy.mean is deprecated. In a future version, numeric_only will default to False. Either specify numeric_only or select only columns which should be valid for the function.\n",
      "  df_g3 = df_group1.groupby(['Age'],as_index=False).mean()\n"
     ]
    },
    {
     "data": {
      "text/html": [
       "<div>\n",
       "<style scoped>\n",
       "    .dataframe tbody tr th:only-of-type {\n",
       "        vertical-align: middle;\n",
       "    }\n",
       "\n",
       "    .dataframe tbody tr th {\n",
       "        vertical-align: top;\n",
       "    }\n",
       "\n",
       "    .dataframe thead th {\n",
       "        text-align: right;\n",
       "    }\n",
       "</style>\n",
       "<table border=\"1\" class=\"dataframe\">\n",
       "  <thead>\n",
       "    <tr style=\"text-align: right;\">\n",
       "      <th></th>\n",
       "      <th>Age</th>\n",
       "      <th>Net Worth in Billion $</th>\n",
       "    </tr>\n",
       "  </thead>\n",
       "  <tbody>\n",
       "    <tr>\n",
       "      <th>0</th>\n",
       "      <td>19.0</td>\n",
       "      <td>2.400000</td>\n",
       "    </tr>\n",
       "    <tr>\n",
       "      <th>1</th>\n",
       "      <td>25.0</td>\n",
       "      <td>1.433333</td>\n",
       "    </tr>\n",
       "    <tr>\n",
       "      <th>2</th>\n",
       "      <td>26.0</td>\n",
       "      <td>1.400000</td>\n",
       "    </tr>\n",
       "    <tr>\n",
       "      <th>3</th>\n",
       "      <td>27.0</td>\n",
       "      <td>2.000000</td>\n",
       "    </tr>\n",
       "    <tr>\n",
       "      <th>4</th>\n",
       "      <td>28.0</td>\n",
       "      <td>5.200000</td>\n",
       "    </tr>\n",
       "    <tr>\n",
       "      <th>...</th>\n",
       "      <td>...</td>\n",
       "      <td>...</td>\n",
       "    </tr>\n",
       "    <tr>\n",
       "      <th>72</th>\n",
       "      <td>95.0</td>\n",
       "      <td>3.542857</td>\n",
       "    </tr>\n",
       "    <tr>\n",
       "      <th>73</th>\n",
       "      <td>96.0</td>\n",
       "      <td>2.080000</td>\n",
       "    </tr>\n",
       "    <tr>\n",
       "      <th>74</th>\n",
       "      <td>97.0</td>\n",
       "      <td>2.700000</td>\n",
       "    </tr>\n",
       "    <tr>\n",
       "      <th>75</th>\n",
       "      <td>98.0</td>\n",
       "      <td>2.500000</td>\n",
       "    </tr>\n",
       "    <tr>\n",
       "      <th>76</th>\n",
       "      <td>100.0</td>\n",
       "      <td>1.800000</td>\n",
       "    </tr>\n",
       "  </tbody>\n",
       "</table>\n",
       "<p>77 rows × 2 columns</p>\n",
       "</div>"
      ],
      "text/plain": [
       "      Age  Net Worth in Billion $\n",
       "0    19.0                2.400000\n",
       "1    25.0                1.433333\n",
       "2    26.0                1.400000\n",
       "3    27.0                2.000000\n",
       "4    28.0                5.200000\n",
       "..    ...                     ...\n",
       "72   95.0                3.542857\n",
       "73   96.0                2.080000\n",
       "74   97.0                2.700000\n",
       "75   98.0                2.500000\n",
       "76  100.0                1.800000\n",
       "\n",
       "[77 rows x 2 columns]"
      ]
     },
     "execution_count": 39,
     "metadata": {},
     "output_type": "execute_result"
    }
   ],
   "source": [
    "df_g3 = df_group1.groupby(['Age'],as_index=False).mean()\n",
    "df_g3"
   ]
  },
  {
   "cell_type": "code",
   "execution_count": 60,
   "id": "da12f9d6-fed9-468a-a5d7-49fbfb73afa4",
   "metadata": {
    "tags": []
   },
   "outputs": [
    {
     "data": {
      "text/html": [
       "<div>\n",
       "<style scoped>\n",
       "    .dataframe tbody tr th:only-of-type {\n",
       "        vertical-align: middle;\n",
       "    }\n",
       "\n",
       "    .dataframe tbody tr th {\n",
       "        vertical-align: top;\n",
       "    }\n",
       "\n",
       "    .dataframe thead tr th {\n",
       "        text-align: left;\n",
       "    }\n",
       "\n",
       "    .dataframe thead tr:last-of-type th {\n",
       "        text-align: right;\n",
       "    }\n",
       "</style>\n",
       "<table border=\"1\" class=\"dataframe\">\n",
       "  <thead>\n",
       "    <tr>\n",
       "      <th></th>\n",
       "      <th colspan=\"21\" halign=\"left\">Net Worth in Billion $</th>\n",
       "    </tr>\n",
       "    <tr>\n",
       "      <th>Age</th>\n",
       "      <th>19.0</th>\n",
       "      <th>25.0</th>\n",
       "      <th>26.0</th>\n",
       "      <th>27.0</th>\n",
       "      <th>28.0</th>\n",
       "      <th>29.0</th>\n",
       "      <th>30.0</th>\n",
       "      <th>31.0</th>\n",
       "      <th>32.0</th>\n",
       "      <th>33.0</th>\n",
       "      <th>...</th>\n",
       "      <th>90.0</th>\n",
       "      <th>91.0</th>\n",
       "      <th>92.0</th>\n",
       "      <th>93.0</th>\n",
       "      <th>94.0</th>\n",
       "      <th>95.0</th>\n",
       "      <th>96.0</th>\n",
       "      <th>97.0</th>\n",
       "      <th>98.0</th>\n",
       "      <th>100.0</th>\n",
       "    </tr>\n",
       "    <tr>\n",
       "      <th>Country</th>\n",
       "      <th></th>\n",
       "      <th></th>\n",
       "      <th></th>\n",
       "      <th></th>\n",
       "      <th></th>\n",
       "      <th></th>\n",
       "      <th></th>\n",
       "      <th></th>\n",
       "      <th></th>\n",
       "      <th></th>\n",
       "      <th></th>\n",
       "      <th></th>\n",
       "      <th></th>\n",
       "      <th></th>\n",
       "      <th></th>\n",
       "      <th></th>\n",
       "      <th></th>\n",
       "      <th></th>\n",
       "      <th></th>\n",
       "      <th></th>\n",
       "      <th></th>\n",
       "    </tr>\n",
       "  </thead>\n",
       "  <tbody>\n",
       "    <tr>\n",
       "      <th>Algeria</th>\n",
       "      <td>0.0</td>\n",
       "      <td>0.0</td>\n",
       "      <td>0.0</td>\n",
       "      <td>0.0</td>\n",
       "      <td>0.0</td>\n",
       "      <td>0.00</td>\n",
       "      <td>0.0</td>\n",
       "      <td>0.00</td>\n",
       "      <td>0.0</td>\n",
       "      <td>0.0</td>\n",
       "      <td>...</td>\n",
       "      <td>0.0</td>\n",
       "      <td>0.000000</td>\n",
       "      <td>0.000000</td>\n",
       "      <td>0.0</td>\n",
       "      <td>0.000000</td>\n",
       "      <td>0.000000</td>\n",
       "      <td>0.0</td>\n",
       "      <td>0.0</td>\n",
       "      <td>0.0</td>\n",
       "      <td>0.0</td>\n",
       "    </tr>\n",
       "    <tr>\n",
       "      <th>Argentina</th>\n",
       "      <td>0.0</td>\n",
       "      <td>0.0</td>\n",
       "      <td>0.0</td>\n",
       "      <td>0.0</td>\n",
       "      <td>0.0</td>\n",
       "      <td>0.00</td>\n",
       "      <td>0.0</td>\n",
       "      <td>0.00</td>\n",
       "      <td>0.0</td>\n",
       "      <td>0.0</td>\n",
       "      <td>...</td>\n",
       "      <td>0.0</td>\n",
       "      <td>0.000000</td>\n",
       "      <td>0.000000</td>\n",
       "      <td>0.0</td>\n",
       "      <td>0.000000</td>\n",
       "      <td>2.400000</td>\n",
       "      <td>0.0</td>\n",
       "      <td>0.0</td>\n",
       "      <td>0.0</td>\n",
       "      <td>0.0</td>\n",
       "    </tr>\n",
       "    <tr>\n",
       "      <th>Australia</th>\n",
       "      <td>0.0</td>\n",
       "      <td>0.0</td>\n",
       "      <td>0.0</td>\n",
       "      <td>0.0</td>\n",
       "      <td>0.0</td>\n",
       "      <td>0.00</td>\n",
       "      <td>0.0</td>\n",
       "      <td>0.00</td>\n",
       "      <td>0.0</td>\n",
       "      <td>0.0</td>\n",
       "      <td>...</td>\n",
       "      <td>0.0</td>\n",
       "      <td>4.450000</td>\n",
       "      <td>0.000000</td>\n",
       "      <td>0.0</td>\n",
       "      <td>0.000000</td>\n",
       "      <td>0.000000</td>\n",
       "      <td>0.0</td>\n",
       "      <td>0.0</td>\n",
       "      <td>0.0</td>\n",
       "      <td>0.0</td>\n",
       "    </tr>\n",
       "    <tr>\n",
       "      <th>Austria</th>\n",
       "      <td>0.0</td>\n",
       "      <td>0.0</td>\n",
       "      <td>0.0</td>\n",
       "      <td>0.0</td>\n",
       "      <td>0.0</td>\n",
       "      <td>0.00</td>\n",
       "      <td>0.0</td>\n",
       "      <td>0.00</td>\n",
       "      <td>0.0</td>\n",
       "      <td>0.0</td>\n",
       "      <td>...</td>\n",
       "      <td>0.0</td>\n",
       "      <td>0.000000</td>\n",
       "      <td>0.000000</td>\n",
       "      <td>0.0</td>\n",
       "      <td>0.000000</td>\n",
       "      <td>0.000000</td>\n",
       "      <td>0.0</td>\n",
       "      <td>0.0</td>\n",
       "      <td>0.0</td>\n",
       "      <td>0.0</td>\n",
       "    </tr>\n",
       "    <tr>\n",
       "      <th>Barbados</th>\n",
       "      <td>0.0</td>\n",
       "      <td>0.0</td>\n",
       "      <td>0.0</td>\n",
       "      <td>0.0</td>\n",
       "      <td>0.0</td>\n",
       "      <td>0.00</td>\n",
       "      <td>0.0</td>\n",
       "      <td>0.00</td>\n",
       "      <td>0.0</td>\n",
       "      <td>0.0</td>\n",
       "      <td>...</td>\n",
       "      <td>0.0</td>\n",
       "      <td>0.000000</td>\n",
       "      <td>0.000000</td>\n",
       "      <td>0.0</td>\n",
       "      <td>0.000000</td>\n",
       "      <td>0.000000</td>\n",
       "      <td>0.0</td>\n",
       "      <td>0.0</td>\n",
       "      <td>0.0</td>\n",
       "      <td>0.0</td>\n",
       "    </tr>\n",
       "    <tr>\n",
       "      <th>...</th>\n",
       "      <td>...</td>\n",
       "      <td>...</td>\n",
       "      <td>...</td>\n",
       "      <td>...</td>\n",
       "      <td>...</td>\n",
       "      <td>...</td>\n",
       "      <td>...</td>\n",
       "      <td>...</td>\n",
       "      <td>...</td>\n",
       "      <td>...</td>\n",
       "      <td>...</td>\n",
       "      <td>...</td>\n",
       "      <td>...</td>\n",
       "      <td>...</td>\n",
       "      <td>...</td>\n",
       "      <td>...</td>\n",
       "      <td>...</td>\n",
       "      <td>...</td>\n",
       "      <td>...</td>\n",
       "      <td>...</td>\n",
       "      <td>...</td>\n",
       "    </tr>\n",
       "    <tr>\n",
       "      <th>United Kingdom</th>\n",
       "      <td>0.0</td>\n",
       "      <td>0.0</td>\n",
       "      <td>0.0</td>\n",
       "      <td>0.0</td>\n",
       "      <td>0.0</td>\n",
       "      <td>0.00</td>\n",
       "      <td>0.0</td>\n",
       "      <td>0.00</td>\n",
       "      <td>0.0</td>\n",
       "      <td>0.0</td>\n",
       "      <td>...</td>\n",
       "      <td>0.0</td>\n",
       "      <td>3.000000</td>\n",
       "      <td>0.000000</td>\n",
       "      <td>0.0</td>\n",
       "      <td>0.000000</td>\n",
       "      <td>0.000000</td>\n",
       "      <td>1.3</td>\n",
       "      <td>0.0</td>\n",
       "      <td>0.0</td>\n",
       "      <td>0.0</td>\n",
       "    </tr>\n",
       "    <tr>\n",
       "      <th>United States</th>\n",
       "      <td>0.0</td>\n",
       "      <td>0.0</td>\n",
       "      <td>0.0</td>\n",
       "      <td>2.0</td>\n",
       "      <td>5.9</td>\n",
       "      <td>1.15</td>\n",
       "      <td>13.1</td>\n",
       "      <td>4.15</td>\n",
       "      <td>1.9</td>\n",
       "      <td>4.2</td>\n",
       "      <td>...</td>\n",
       "      <td>3.2</td>\n",
       "      <td>49.133333</td>\n",
       "      <td>8.833333</td>\n",
       "      <td>4.2</td>\n",
       "      <td>1.566667</td>\n",
       "      <td>3.633333</td>\n",
       "      <td>3.0</td>\n",
       "      <td>2.0</td>\n",
       "      <td>2.5</td>\n",
       "      <td>1.8</td>\n",
       "    </tr>\n",
       "    <tr>\n",
       "      <th>Uruguay</th>\n",
       "      <td>0.0</td>\n",
       "      <td>0.0</td>\n",
       "      <td>0.0</td>\n",
       "      <td>0.0</td>\n",
       "      <td>0.0</td>\n",
       "      <td>0.00</td>\n",
       "      <td>0.0</td>\n",
       "      <td>0.00</td>\n",
       "      <td>0.0</td>\n",
       "      <td>0.0</td>\n",
       "      <td>...</td>\n",
       "      <td>0.0</td>\n",
       "      <td>0.000000</td>\n",
       "      <td>0.000000</td>\n",
       "      <td>0.0</td>\n",
       "      <td>0.000000</td>\n",
       "      <td>0.000000</td>\n",
       "      <td>0.0</td>\n",
       "      <td>0.0</td>\n",
       "      <td>0.0</td>\n",
       "      <td>0.0</td>\n",
       "    </tr>\n",
       "    <tr>\n",
       "      <th>Venezuela</th>\n",
       "      <td>0.0</td>\n",
       "      <td>0.0</td>\n",
       "      <td>0.0</td>\n",
       "      <td>0.0</td>\n",
       "      <td>0.0</td>\n",
       "      <td>0.00</td>\n",
       "      <td>0.0</td>\n",
       "      <td>0.00</td>\n",
       "      <td>0.0</td>\n",
       "      <td>0.0</td>\n",
       "      <td>...</td>\n",
       "      <td>0.0</td>\n",
       "      <td>0.000000</td>\n",
       "      <td>0.000000</td>\n",
       "      <td>0.0</td>\n",
       "      <td>0.000000</td>\n",
       "      <td>0.000000</td>\n",
       "      <td>0.0</td>\n",
       "      <td>0.0</td>\n",
       "      <td>0.0</td>\n",
       "      <td>0.0</td>\n",
       "    </tr>\n",
       "    <tr>\n",
       "      <th>Vietnam</th>\n",
       "      <td>0.0</td>\n",
       "      <td>0.0</td>\n",
       "      <td>0.0</td>\n",
       "      <td>0.0</td>\n",
       "      <td>0.0</td>\n",
       "      <td>0.00</td>\n",
       "      <td>0.0</td>\n",
       "      <td>0.00</td>\n",
       "      <td>0.0</td>\n",
       "      <td>0.0</td>\n",
       "      <td>...</td>\n",
       "      <td>0.0</td>\n",
       "      <td>0.000000</td>\n",
       "      <td>0.000000</td>\n",
       "      <td>0.0</td>\n",
       "      <td>0.000000</td>\n",
       "      <td>0.000000</td>\n",
       "      <td>0.0</td>\n",
       "      <td>0.0</td>\n",
       "      <td>0.0</td>\n",
       "      <td>0.0</td>\n",
       "    </tr>\n",
       "  </tbody>\n",
       "</table>\n",
       "<p>74 rows × 77 columns</p>\n",
       "</div>"
      ],
      "text/plain": [
       "               Net Worth in Billion $                                      \\\n",
       "Age                             19.0  25.0  26.0  27.0  28.0  29.0  30.0    \n",
       "Country                                                                     \n",
       "Algeria                           0.0   0.0   0.0   0.0   0.0  0.00   0.0   \n",
       "Argentina                         0.0   0.0   0.0   0.0   0.0  0.00   0.0   \n",
       "Australia                         0.0   0.0   0.0   0.0   0.0  0.00   0.0   \n",
       "Austria                           0.0   0.0   0.0   0.0   0.0  0.00   0.0   \n",
       "Barbados                          0.0   0.0   0.0   0.0   0.0  0.00   0.0   \n",
       "...                               ...   ...   ...   ...   ...   ...   ...   \n",
       "United Kingdom                    0.0   0.0   0.0   0.0   0.0  0.00   0.0   \n",
       "United States                     0.0   0.0   0.0   2.0   5.9  1.15  13.1   \n",
       "Uruguay                           0.0   0.0   0.0   0.0   0.0  0.00   0.0   \n",
       "Venezuela                         0.0   0.0   0.0   0.0   0.0  0.00   0.0   \n",
       "Vietnam                           0.0   0.0   0.0   0.0   0.0  0.00   0.0   \n",
       "\n",
       "                                  ...                                   \\\n",
       "Age            31.0  32.0  33.0   ... 90.0       91.0      92.0  93.0    \n",
       "Country                           ...                                    \n",
       "Algeria         0.00   0.0   0.0  ...   0.0   0.000000  0.000000   0.0   \n",
       "Argentina       0.00   0.0   0.0  ...   0.0   0.000000  0.000000   0.0   \n",
       "Australia       0.00   0.0   0.0  ...   0.0   4.450000  0.000000   0.0   \n",
       "Austria         0.00   0.0   0.0  ...   0.0   0.000000  0.000000   0.0   \n",
       "Barbados        0.00   0.0   0.0  ...   0.0   0.000000  0.000000   0.0   \n",
       "...              ...   ...   ...  ...   ...        ...       ...   ...   \n",
       "United Kingdom  0.00   0.0   0.0  ...   0.0   3.000000  0.000000   0.0   \n",
       "United States   4.15   1.9   4.2  ...   3.2  49.133333  8.833333   4.2   \n",
       "Uruguay         0.00   0.0   0.0  ...   0.0   0.000000  0.000000   0.0   \n",
       "Venezuela       0.00   0.0   0.0  ...   0.0   0.000000  0.000000   0.0   \n",
       "Vietnam         0.00   0.0   0.0  ...   0.0   0.000000  0.000000   0.0   \n",
       "\n",
       "                                                            \n",
       "Age                94.0      95.0  96.0  97.0  98.0  100.0  \n",
       "Country                                                     \n",
       "Algeria         0.000000  0.000000   0.0   0.0   0.0   0.0  \n",
       "Argentina       0.000000  2.400000   0.0   0.0   0.0   0.0  \n",
       "Australia       0.000000  0.000000   0.0   0.0   0.0   0.0  \n",
       "Austria         0.000000  0.000000   0.0   0.0   0.0   0.0  \n",
       "Barbados        0.000000  0.000000   0.0   0.0   0.0   0.0  \n",
       "...                  ...       ...   ...   ...   ...   ...  \n",
       "United Kingdom  0.000000  0.000000   1.3   0.0   0.0   0.0  \n",
       "United States   1.566667  3.633333   3.0   2.0   2.5   1.8  \n",
       "Uruguay         0.000000  0.000000   0.0   0.0   0.0   0.0  \n",
       "Venezuela       0.000000  0.000000   0.0   0.0   0.0   0.0  \n",
       "Vietnam         0.000000  0.000000   0.0   0.0   0.0   0.0  \n",
       "\n",
       "[74 rows x 77 columns]"
      ]
     },
     "execution_count": 60,
     "metadata": {},
     "output_type": "execute_result"
    }
   ],
   "source": [
    "gp_pivot = df_g2.pivot(index=\"Country\",columns=\"Age\")\n",
    "gp_pivot.replace(np.nan, int(0))"
   ]
  },
  {
   "cell_type": "code",
   "execution_count": 56,
   "id": "1e41f6ec-f2d3-4442-868d-c2659080e18e",
   "metadata": {
    "tags": []
   },
   "outputs": [
    {
     "data": {
      "image/png": "[encoded data removed]",
      "text/plain": [
       "<Figure size 640x480 with 2 Axes>"
      ]
     },
     "metadata": {},
     "output_type": "display_data"
    }
   ],
   "source": [
    "import matplotlib.pyplot as plt\n",
    "%matplotlib inline\n",
    "plt.pcolor(gp_pivot, cmap=\"RdBu\")\n",
    "plt.colorbar()\n",
    "plt.show()"
   ]
  },
  {
   "cell_type": "code",
   "execution_count": null,
   "id": "d9059e51-0e74-42b2-be95-ee3811b66a1f",
   "metadata": {},
   "outputs": [],
   "source": []
  }
 ],
 "metadata": {
  "kernelspec": {
   "display_name": "Python 3 (ipykernel)",
   "language": "python",
   "name": "python3"
  },
  "language_info": {
   "codemirror_mode": {
    "name": "ipython",
    "version": 3
   },
   "file_extension": ".py",
   "mimetype": "text/x-python",
   "name": "python",
   "nbconvert_exporter": "python",
   "pygments_lexer": "ipython3",
   "version": "3.10.9"
  }
 },
 "nbformat": 4,
 "nbformat_minor": 5
}
